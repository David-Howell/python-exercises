{
 "cells": [
  {
   "cell_type": "markdown",
   "id": "68e7fcfe",
   "metadata": {},
   "source": [
    "# 20 Python Data Structure Manipulation Exercises\n",
    "    The following questions reference the students data structure below. Write the python code to answer the following questions:\n",
    "\n"
   ]
  },
  {
   "cell_type": "markdown",
   "id": "ace74d64",
   "metadata": {},
   "source": [
    "How many students are there?"
   ]
  },
  {
   "cell_type": "code",
   "execution_count": 2,
   "id": "e3211230",
   "metadata": {},
   "outputs": [
    {
     "name": "stdout",
     "output_type": "stream",
     "text": [
      "14\n"
     ]
    }
   ],
   "source": [
    "count = sum([1 for s in students]) \n",
    "print(count)"
   ]
  },
  {
   "cell_type": "markdown",
   "id": "91e47360",
   "metadata": {},
   "source": [
    "How many students prefer light coffee? For each type of coffee roast?"
   ]
  },
  {
   "cell_type": "code",
   "execution_count": 5,
   "id": "5009c6e6",
   "metadata": {},
   "outputs": [
    {
     "name": "stdout",
     "output_type": "stream",
     "text": [
      "3  prefer light coffee\n",
      "5  prefer dark coffee\n",
      "6  prefer medium coffee\n"
     ]
    }
   ],
   "source": [
    "lights = 0\n",
    "darks = 0\n",
    "mediums = 0\n",
    "\n",
    "for d in students:\n",
    "    if d['coffee_preference'] == 'light':\n",
    "        lights += 1\n",
    "    elif d['coffee_preference'] == 'dark':\n",
    "        darks += 1\n",
    "    elif d['coffee_preference'] == 'medium':\n",
    "        mediums += 1\n",
    "    \n",
    "print(lights, ' prefer light coffee')\n",
    "print(darks, ' prefer dark coffee')\n",
    "print(mediums, ' prefer medium coffee')"
   ]
  },
  {
   "cell_type": "markdown",
   "id": "123ce74f",
   "metadata": {},
   "source": [
    "How many types of each pet are there?"
   ]
  },
  {
   "cell_type": "code",
   "execution_count": 11,
   "id": "a5266293",
   "metadata": {},
   "outputs": [
    {
     "name": "stdout",
     "output_type": "stream",
     "text": [
      "['horse', 'cat', 'dog', 'cat', 'horse', 'horse', 'dog', 'cat', 'cat', 'cat', 'cat', 'cat', 'cat', 'cat', 'cat', 'cat', 'horse', 'dog']\n",
      "cat      11\n",
      "horse     4\n",
      "dog       3\n",
      "dtype: int64\n"
     ]
    }
   ],
   "source": [
    "import numpy as np\n",
    "import pandas as pd\n",
    "\n",
    "list_o_species = []\n",
    "for i in students:\n",
    "    for p in i['pets']:\n",
    "        list_o_species += [p['species']]\n",
    "print(list_o_species)\n",
    "print(pd.value_counts(np.array(list_o_species)))"
   ]
  },
  {
   "cell_type": "markdown",
   "id": "38d962c6",
   "metadata": {},
   "source": [
    "How many grades does each student have? Do they all have the same number of grades?"
   ]
  },
  {
   "cell_type": "code",
   "execution_count": 17,
   "id": "c07397af",
   "metadata": {},
   "outputs": [
    {
     "name": "stdout",
     "output_type": "stream",
     "text": [
      "{'Ada Lovelace': 4, 'Thomas Bayes': 4, 'Marie Curie': 4, 'Grace Hopper': 4, 'Alan Turing': 4, 'Rosalind Franklin': 4, 'Elizabeth Blackwell': 4, 'Rene Descartes': 4, 'Ahmed Zewail': 4, 'Chien-Shiung Wu': 4, 'William Sanford Nye': 4, 'Carl Sagan': 4, 'Jane Goodall': 4, 'Richard Feynman': 4}\n"
     ]
    }
   ],
   "source": [
    "graded = {}\n",
    "for i in students:\n",
    "    graded.update({i['student']: sum(1 for x in i['grades'])})\n",
    "    \n",
    "print(graded)"
   ]
  },
  {
   "cell_type": "markdown",
   "id": "f8d85072",
   "metadata": {},
   "source": [
    "What is each student's grade average?"
   ]
  },
  {
   "cell_type": "code",
   "execution_count": 18,
   "id": "367bb20a",
   "metadata": {},
   "outputs": [
    {
     "name": "stdout",
     "output_type": "stream",
     "text": [
      "{'Ada Lovelace': 78.5, 'Thomas Bayes': 83.5, 'Marie Curie': 73.25, 'Grace Hopper': 78.5, 'Alan Turing': 81.5, 'Rosalind Franklin': 80.75, 'Elizabeth Blackwell': 84.5, 'Rene Descartes': 88.75, 'Ahmed Zewail': 88.75, 'Chien-Shiung Wu': 82.5, 'William Sanford Nye': 81.5, 'Carl Sagan': 91.0, 'Jane Goodall': 79.0, 'Richard Feynman': 89.0}\n"
     ]
    }
   ],
   "source": [
    "avgrade = {}\n",
    "for i in students:\n",
    "    avgrade.update({i['student']: sum(x for x in i['grades']) / sum(1 for x in i['grades'])})\n",
    "    \n",
    "print(avgrade)"
   ]
  },
  {
   "cell_type": "markdown",
   "id": "efa79675",
   "metadata": {},
   "source": [
    "How many pets does each student have?"
   ]
  },
  {
   "cell_type": "code",
   "execution_count": 20,
   "id": "62e07d7b",
   "metadata": {},
   "outputs": [
    {
     "name": "stdout",
     "output_type": "stream",
     "text": [
      "[['Ada Lovelace' '1']\n",
      " ['Thomas Bayes' '0']\n",
      " ['Marie Curie' '1']\n",
      " ['Grace Hopper' '2']\n",
      " ['Alan Turing' '3']\n",
      " ['Rosalind Franklin' '0']\n",
      " ['Elizabeth Blackwell' '1']\n",
      " ['Rene Descartes' '2']\n",
      " ['Ahmed Zewail' '2']\n",
      " ['Chien-Shiung Wu' '1']\n",
      " ['William Sanford Nye' '2']\n",
      " ['Carl Sagan' '1']\n",
      " ['Jane Goodall' '1']\n",
      " ['Richard Feynman' '1']]\n"
     ]
    }
   ],
   "source": [
    "each_students_pets = {}\n",
    "for i in students:\n",
    "    each_students_pets.update({i['student']: sum(1 for x in i['pets'])})\n",
    "# print (each_students_pets)\n",
    "result = each_students_pets.items()\n",
    "data = list(result)\n",
    "print(np.array(data))"
   ]
  },
  {
   "cell_type": "markdown",
   "id": "18e92b7a",
   "metadata": {},
   "source": [
    "How many students are in web development? data science?"
   ]
  },
  {
   "cell_type": "code",
   "execution_count": 25,
   "id": "41c29252",
   "metadata": {},
   "outputs": [
    {
     "name": "stdout",
     "output_type": "stream",
     "text": [
      "{'web development': 7, 'data science': 7}\n"
     ]
    }
   ],
   "source": [
    "each_class = {}\n",
    "for i in students:\n",
    "    each_class.update({i['course']: sum(1 for x in students if x['course'] == i['course'])})\n",
    "    \n",
    "print(each_class)"
   ]
  },
  {
   "cell_type": "markdown",
   "id": "cff6941e",
   "metadata": {},
   "source": [
    "What is the average number of pets for students in web development?"
   ]
  },
  {
   "cell_type": "code",
   "execution_count": 30,
   "id": "989b7b1c",
   "metadata": {},
   "outputs": [
    {
     "name": "stdout",
     "output_type": "stream",
     "text": [
      "{'web development': 12, 'data science': 0}\n"
     ]
    }
   ],
   "source": [
    "# Isn't working....\n",
    "# studs_pets = {}\n",
    "# avg_pets_per_stud_in_wd = {}\n",
    "# for i in students:\n",
    "#     studs_pets.update({i['course']: sum(1 for a in students if a['pets'] and i['course'] == 'web development')})\n",
    "# print(studs_pets)"
   ]
  },
  {
   "cell_type": "markdown",
   "id": "c1d8b0dc",
   "metadata": {},
   "source": [
    "What is the average pet age for students in data science?"
   ]
  },
  {
   "cell_type": "markdown",
   "id": "b0228254",
   "metadata": {},
   "source": [
    "What is most frequent coffee preference for data science students?"
   ]
  },
  {
   "cell_type": "markdown",
   "id": "5ec5b0bd",
   "metadata": {},
   "source": [
    "What is the least frequent coffee preference for web development students?"
   ]
  },
  {
   "cell_type": "markdown",
   "id": "2e94dd9d",
   "metadata": {},
   "source": [
    "What is the average grade for students with at least 2 pets?"
   ]
  },
  {
   "cell_type": "markdown",
   "id": "a2f310e0",
   "metadata": {},
   "source": [
    "How many students have 3 pets?"
   ]
  },
  {
   "cell_type": "markdown",
   "id": "49e3b973",
   "metadata": {},
   "source": [
    "What is the average grade for students with 0 pets?"
   ]
  },
  {
   "cell_type": "markdown",
   "id": "64a58550",
   "metadata": {},
   "source": [
    "What is the average grade for web development students? data science students?"
   ]
  },
  {
   "cell_type": "markdown",
   "id": "9a39e82d",
   "metadata": {},
   "source": [
    "What is the average grade range (i.e. highest grade - lowest grade) for dark coffee drinkers?"
   ]
  },
  {
   "cell_type": "markdown",
   "id": "f0ec4ac4",
   "metadata": {},
   "source": [
    "What is the average number of pets for medium coffee drinkers?"
   ]
  },
  {
   "cell_type": "markdown",
   "id": "541c0fa6",
   "metadata": {},
   "source": [
    "What is the most common type of pet for web development students?"
   ]
  },
  {
   "cell_type": "markdown",
   "id": "1add7669",
   "metadata": {},
   "source": [
    "What is the average name length?"
   ]
  },
  {
   "cell_type": "markdown",
   "id": "d504f126",
   "metadata": {},
   "source": [
    "What is the highest pet age for light coffee drinkers?"
   ]
  },
  {
   "cell_type": "markdown",
   "id": "77e33927",
   "metadata": {},
   "source": []
  },
  {
   "cell_type": "code",
   "execution_count": 3,
   "id": "7b1ca149",
   "metadata": {},
   "outputs": [],
   "source": [
    "students = [\n",
    "    {\n",
    "        \"id\": \"100001\",\n",
    "        \"student\": \"Ada Lovelace\",\n",
    "        \"coffee_preference\": \"light\",\n",
    "        \"course\": \"web development\",\n",
    "        \"grades\": [70, 91, 82, 71],\n",
    "        \"pets\": [{\"species\": \"horse\", \"age\": 8}],\n",
    "    },\n",
    "    {\n",
    "        \"id\": \"100002\",\n",
    "        \"student\": \"Thomas Bayes\",\n",
    "        \"coffee_preference\": \"medium\",\n",
    "        \"course\": \"data science\",\n",
    "        \"grades\": [75, 73, 86, 100],\n",
    "        \"pets\": [],\n",
    "    },\n",
    "    {\n",
    "        \"id\": \"100003\",\n",
    "        \"student\": \"Marie Curie\",\n",
    "        \"coffee_preference\": \"light\",\n",
    "        \"course\": \"web development\",\n",
    "        \"grades\": [70, 89, 69, 65],\n",
    "        \"pets\": [{\"species\": \"cat\", \"age\": 0}],\n",
    "    },\n",
    "    {\n",
    "        \"id\": \"100004\",\n",
    "        \"student\": \"Grace Hopper\",\n",
    "        \"coffee_preference\": \"dark\",\n",
    "        \"course\": \"data science\",\n",
    "        \"grades\": [73, 66, 83, 92],\n",
    "        \"pets\": [{\"species\": \"dog\", \"age\": 4}, {\"species\": \"cat\", \"age\": 4}],\n",
    "    },\n",
    "    {\n",
    "        \"id\": \"100005\",\n",
    "        \"student\": \"Alan Turing\",\n",
    "        \"coffee_preference\": \"dark\",\n",
    "        \"course\": \"web development\",\n",
    "        \"grades\": [78, 98, 85, 65],\n",
    "        \"pets\": [\n",
    "            {\"species\": \"horse\", \"age\": 6},\n",
    "            {\"species\": \"horse\", \"age\": 7},\n",
    "            {\"species\": \"dog\", \"age\": 5},\n",
    "        ],\n",
    "    },\n",
    "    {\n",
    "        \"id\": \"100006\",\n",
    "        \"student\": \"Rosalind Franklin\",\n",
    "        \"coffee_preference\": \"dark\",\n",
    "        \"course\": \"data science\",\n",
    "        \"grades\": [76, 70, 96, 81],\n",
    "        \"pets\": [],\n",
    "    },\n",
    "    {\n",
    "        \"id\": \"100007\",\n",
    "        \"student\": \"Elizabeth Blackwell\",\n",
    "        \"coffee_preference\": \"dark\",\n",
    "        \"course\": \"web development\",\n",
    "        \"grades\": [69, 94, 89, 86],\n",
    "        \"pets\": [{\"species\": \"cat\", \"age\": 10}],\n",
    "    },\n",
    "    {\n",
    "        \"id\": \"100008\",\n",
    "        \"student\": \"Rene Descartes\",\n",
    "        \"coffee_preference\": \"medium\",\n",
    "        \"course\": \"data science\",\n",
    "        \"grades\": [87, 79, 90, 99],\n",
    "        \"pets\": [{\"species\": \"cat\", \"age\": 10}, {\"species\": \"cat\", \"age\": 8}],\n",
    "    },\n",
    "    {\n",
    "        \"id\": \"100009\",\n",
    "        \"student\": \"Ahmed Zewail\",\n",
    "        \"coffee_preference\": \"medium\",\n",
    "        \"course\": \"data science\",\n",
    "        \"grades\": [74, 99, 93, 89],\n",
    "        \"pets\": [{\"species\": \"cat\", \"age\": 0}, {\"species\": \"cat\", \"age\": 0}],\n",
    "    },\n",
    "    {\n",
    "        \"id\": \"100010\",\n",
    "        \"student\": \"Chien-Shiung Wu\",\n",
    "        \"coffee_preference\": \"medium\",\n",
    "        \"course\": \"web development\",\n",
    "        \"grades\": [82, 92, 91, 65],\n",
    "        \"pets\": [{\"species\": \"cat\", \"age\": 8}],\n",
    "    },\n",
    "    {\n",
    "        \"id\": \"100011\",\n",
    "        \"student\": \"William Sanford Nye\",\n",
    "        \"coffee_preference\": \"dark\",\n",
    "        \"course\": \"data science\",\n",
    "        \"grades\": [70, 92, 65, 99],\n",
    "        \"pets\": [{\"species\": \"cat\", \"age\": 8}, {\"species\": \"cat\", \"age\": 5}],\n",
    "    },\n",
    "    {\n",
    "        \"id\": \"100012\",\n",
    "        \"student\": \"Carl Sagan\",\n",
    "        \"coffee_preference\": \"medium\",\n",
    "        \"course\": \"data science\",\n",
    "        \"grades\": [100, 86, 91, 87],\n",
    "        \"pets\": [{\"species\": \"cat\", \"age\": 10}],\n",
    "    },\n",
    "    {\n",
    "        \"id\": \"100013\",\n",
    "        \"student\": \"Jane Goodall\",\n",
    "        \"coffee_preference\": \"light\",\n",
    "        \"course\": \"web development\",\n",
    "        \"grades\": [80, 70, 68, 98],\n",
    "        \"pets\": [{\"species\": \"horse\", \"age\": 4}],\n",
    "    },\n",
    "    {\n",
    "        \"id\": \"100014\",\n",
    "        \"student\": \"Richard Feynman\",\n",
    "        \"coffee_preference\": \"medium\",\n",
    "        \"course\": \"web development\",\n",
    "        \"grades\": [73, 99, 86, 98],\n",
    "        \"pets\": [{\"species\": \"dog\", \"age\": 6}],\n",
    "    },\n",
    "]"
   ]
  }
 ],
 "metadata": {
  "kernelspec": {
   "display_name": "Python 3 (ipykernel)",
   "language": "python",
   "name": "python3"
  },
  "language_info": {
   "codemirror_mode": {
    "name": "ipython",
    "version": 3
   },
   "file_extension": ".py",
   "mimetype": "text/x-python",
   "name": "python",
   "nbconvert_exporter": "python",
   "pygments_lexer": "ipython3",
   "version": "3.9.12"
  }
 },
 "nbformat": 4,
 "nbformat_minor": 5
}
