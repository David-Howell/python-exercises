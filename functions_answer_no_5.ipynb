{
 "cells": [
  {
   "cell_type": "markdown",
   "id": "44da0704",
   "metadata": {},
   "source": [
    "#### 5. Define a function named calculate_tip. It should accept a tip percentage (a number between 0 and 1) and the bill total, and return the amount to tip.\n"
   ]
  },
  {
   "cell_type": "code",
   "execution_count": null,
   "id": "2e7c2a89",
   "metadata": {},
   "outputs": [],
   "source": [
    "# use def to define the function with two inputs:\n",
    "#     The tip percentage as a decimal >> tip - which will be a float\n",
    "#     The amount of the tab >> tab - entered as a float or int\n",
    "def calculate_tip(tip, tab):\n",
    "#     if the tab is entered as an int it is changed to a float:\n",
    "#         this will be used for formating purposes in the output string discussed below\n",
    "    tab = float(tab)\n",
    "#     the tip amount is calculated by multipling the input percentage by the input tab:\n",
    "#         round is used to get a whole cent value as we're used to with money\n",
    "    tip_amount = round(tip * tab, 2)\n",
    "#     the tip and tab are added together, and again we round to 2 digits so the output isn't broken by float errors\n",
    "    total_with_tip = round(tab + tip_amount, 2)\n",
    "#     the next three if statements do the same thing to our three variables for display:\n",
    "#         first check to see if the value is equivalent to the round value\n",
    "#             this would be the case if the float is equivalent to an int\n",
    "#         second check to see if the value times 10 is equivalent to the round value times 10\n",
    "#             this would be the case if the number of cents is a multiple of 10\n",
    "    if tip_amount == round(tip_amount) or tip_amount * 10 == round(tip_amount * 10): \n",
    "#         if either of the foregoing conditions are true we convert the float to a str and add a '0'\n",
    "#             as such, the decimal will be displayed as 2 digits\n",
    "        tip_amount = str(tip_amount) + '0'\n",
    "    if tab == round(tab) or tab * 10 == round(tab * 10):\n",
    "        tab = str(tab) + '0'\n",
    "    if total_with_tip == round(total_with_tip) or total_with_tip * 10 == round(total_with_tip * 10):\n",
    "        total_with_tip = str(total_with_tip) + '0'\n",
    "#         finally we return a string as a sentence detailing:\n",
    "#             the tip percentage, original tab, the tip in dollars, and the total\n",
    "#             this is formated so that used in a loop the data is nearly tabular \n",
    "    return f'If you tip {round(tip*100):>3}% on ${tab:>5} the tip amount is ${tip_amount:>5} for a total of ${total_with_tip}'"
   ]
  },
  {
   "cell_type": "code",
   "execution_count": null,
   "id": "84f69bd3",
   "metadata": {},
   "outputs": [],
   "source": [
    "import random\n",
    "for x in range (100):\n",
    "    x += 1\n",
    "    x /= 100\n",
    "    y = float(''.join (random.sample([str(x) for x in range(10)], 4))) / 100\n",
    "    print(calculate_tip(x,y))"
   ]
  }
 ],
 "metadata": {
  "kernelspec": {
   "display_name": "Python 3 (ipykernel)",
   "language": "python",
   "name": "python3"
  },
  "language_info": {
   "codemirror_mode": {
    "name": "ipython",
    "version": 3
   },
   "file_extension": ".py",
   "mimetype": "text/x-python",
   "name": "python",
   "nbconvert_exporter": "python",
   "pygments_lexer": "ipython3",
   "version": "3.9.12"
  }
 },
 "nbformat": 4,
 "nbformat_minor": 5
}
