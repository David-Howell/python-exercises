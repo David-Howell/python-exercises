{
 "cells": [
  {
   "cell_type": "markdown",
   "id": "d758e469",
   "metadata": {},
   "source": [
    "## Exercises\n",
    "### Do your work for this exercise in a file named control_structures_exercises.py.\n",
    "\n",
    "1. Conditional Basics\n",
    "\n",
    "    * prompt the user for a day of the week, \n",
    "    * print out whether the day is Monday or not"
   ]
  },
  {
   "cell_type": "code",
   "execution_count": 7,
   "id": "7876f5a4",
   "metadata": {
    "collapsed": true
   },
   "outputs": [
    {
     "name": "stdout",
     "output_type": "stream",
     "text": [
      "Please type a day of the week Popsicle\n",
      "That's not Monday\n"
     ]
    }
   ],
   "source": [
    "m = input ('Please type a day of the week ')\n",
    "\n",
    "if m == 'Monday':\n",
    "    print (m)\n",
    "else: print ('That\\'s not Monday')"
   ]
  },
  {
   "cell_type": "markdown",
   "id": "561529bc",
   "metadata": {},
   "source": [
    "* prompt the user for a day of the week, print out whether the day is a weekday or a weekend"
   ]
  },
  {
   "cell_type": "code",
   "execution_count": 16,
   "id": "3f05c52b",
   "metadata": {
    "collapsed": true
   },
   "outputs": [
    {
     "name": "stdout",
     "output_type": "stream",
     "text": [
      "Please type a day of the week MoNdAy\n",
      "It's still the workweek\n"
     ]
    }
   ],
   "source": [
    "d = input ('Please type a day of the week ')\n",
    "d = d.lower()\n",
    "if d in ['saturday', 'sunday']:\n",
    "    print('It\\'s the WEEKEND!!')\n",
    "elif d in ['monday', 'tuesday', 'wednesday', 'thursday', 'friday']:\n",
    "    print('It\\'s still the workweek')\n",
    "else: print('That\\'s not a day of the week')"
   ]
  },
  {
   "cell_type": "markdown",
   "id": "1643f42f",
   "metadata": {},
   "source": [
    "### c. create variables and make up values for\n",
    "\n",
    "* the number of hours worked in one week\n",
    "\n",
    "* the hourly rate\n",
    "\n",
    "* how much the week's paycheck will be\n",
    "\n",
    "#### write the python code that calculates the weekly paycheck. \n",
    "* You get paid time and a half if you work more than 40 hours"
   ]
  },
  {
   "cell_type": "code",
   "execution_count": 21,
   "id": "2fe09e8f",
   "metadata": {
    "collapsed": true
   },
   "outputs": [
    {
     "name": "stdout",
     "output_type": "stream",
     "text": [
      "How many whole hours did you work this week? = 50\n",
      "What's your hourly pay? = 10\n",
      "This week you made 535.0!\n"
     ]
    }
   ],
   "source": [
    "hrs_this_week = int(input('How many whole hours did you work this week? = '))\n",
    "pay_per_hour = round(float(input('What\\'s your hourly pay? = ')), 2)\n",
    "this_weeks_pay = 0\n",
    "\n",
    "for hrs in range (1, hrs_this_week):\n",
    "    if hrs <= 40:\n",
    "        this_weeks_pay += pay_per_hour\n",
    "    else: this_weeks_pay += pay_per_hour * 1.5\n",
    "print(f'This week you made {this_weeks_pay}!')"
   ]
  },
  {
   "cell_type": "markdown",
   "id": "4ea09d2b",
   "metadata": {},
   "source": [
    "### 2. Loop Basics\n",
    "\n",
    "#### * While\n",
    "\n",
    "* Create an integer variable i with a value of 5.\n",
    "* Create a while loop that runs so long as i is less than or equal to 15\n",
    "* Each loop iteration, output the current value of i, then increment i by one.\n",
    "Your output should look like this:\n",
    "\n",
    "5\n",
    "6\n",
    "7\n",
    "8\n",
    "9\n",
    "10\n",
    "11\n",
    "12\n",
    "13\n",
    "14\n",
    "15"
   ]
  },
  {
   "cell_type": "code",
   "execution_count": 22,
   "id": "1022ceb2",
   "metadata": {
    "collapsed": true
   },
   "outputs": [
    {
     "name": "stdout",
     "output_type": "stream",
     "text": [
      "5\n",
      "6\n",
      "7\n",
      "8\n",
      "9\n",
      "10\n",
      "11\n",
      "12\n",
      "13\n",
      "14\n",
      "15\n"
     ]
    }
   ],
   "source": [
    "i = 5\n",
    "while i <= 15:\n",
    "    print(i)\n",
    "    i += 1"
   ]
  },
  {
   "cell_type": "markdown",
   "id": "df19547c",
   "metadata": {},
   "source": [
    "* Create a while loop that will count by 2's starting with 0 and ending at 100. Follow each number with a new line.\n",
    "* Alter your loop to count backwards by 5's from 100 to -10.\n",
    "\n",
    "* Create a while loop that starts at 2, and displays the number squared on each line while the number is less than 1,000,000. Output should equal:\n",
    "\n",
    "2\n",
    "4\n",
    "16\n",
    "256\n",
    "65536"
   ]
  },
  {
   "cell_type": "code",
   "execution_count": 24,
   "id": "ba9341c9",
   "metadata": {
    "collapsed": true
   },
   "outputs": [
    {
     "name": "stdout",
     "output_type": "stream",
     "text": [
      "0\n",
      "\n",
      "2\n",
      "\n",
      "4\n",
      "\n",
      "6\n",
      "\n",
      "8\n",
      "\n",
      "10\n",
      "\n",
      "12\n",
      "\n",
      "14\n",
      "\n",
      "16\n",
      "\n",
      "18\n",
      "\n",
      "20\n",
      "\n",
      "22\n",
      "\n",
      "24\n",
      "\n",
      "26\n",
      "\n",
      "28\n",
      "\n",
      "30\n",
      "\n",
      "32\n",
      "\n",
      "34\n",
      "\n",
      "36\n",
      "\n",
      "38\n",
      "\n",
      "40\n",
      "\n",
      "42\n",
      "\n",
      "44\n",
      "\n",
      "46\n",
      "\n",
      "48\n",
      "\n",
      "50\n",
      "\n",
      "52\n",
      "\n",
      "54\n",
      "\n",
      "56\n",
      "\n",
      "58\n",
      "\n",
      "60\n",
      "\n",
      "62\n",
      "\n",
      "64\n",
      "\n",
      "66\n",
      "\n",
      "68\n",
      "\n",
      "70\n",
      "\n",
      "72\n",
      "\n",
      "74\n",
      "\n",
      "76\n",
      "\n",
      "78\n",
      "\n",
      "80\n",
      "\n",
      "82\n",
      "\n",
      "84\n",
      "\n",
      "86\n",
      "\n",
      "88\n",
      "\n",
      "90\n",
      "\n",
      "92\n",
      "\n",
      "94\n",
      "\n",
      "96\n",
      "\n",
      "98\n",
      "\n",
      "100\n",
      "\n"
     ]
    }
   ],
   "source": [
    "i = 0\n",
    "while i <= 100:\n",
    "    print (i)\n",
    "    print('')\n",
    "    i += 2"
   ]
  },
  {
   "cell_type": "code",
   "execution_count": 25,
   "id": "308dd3bb",
   "metadata": {
    "collapsed": true
   },
   "outputs": [
    {
     "name": "stdout",
     "output_type": "stream",
     "text": [
      "100\n",
      "\n",
      "95\n",
      "\n",
      "90\n",
      "\n",
      "85\n",
      "\n",
      "80\n",
      "\n",
      "75\n",
      "\n",
      "70\n",
      "\n",
      "65\n",
      "\n",
      "60\n",
      "\n",
      "55\n",
      "\n",
      "50\n",
      "\n",
      "45\n",
      "\n",
      "40\n",
      "\n",
      "35\n",
      "\n",
      "30\n",
      "\n",
      "25\n",
      "\n",
      "20\n",
      "\n",
      "15\n",
      "\n",
      "10\n",
      "\n",
      "5\n",
      "\n",
      "0\n",
      "\n",
      "-5\n",
      "\n",
      "-10\n",
      "\n"
     ]
    }
   ],
   "source": [
    "# * Alter your loop to count backwards by 5's from 100 to -10.\n",
    "i = 100\n",
    "while i >= -10:\n",
    "    print (i)\n",
    "    print('')\n",
    "    i += -5"
   ]
  },
  {
   "cell_type": "code",
   "execution_count": 26,
   "id": "2451a9bd",
   "metadata": {
    "collapsed": true
   },
   "outputs": [
    {
     "name": "stdout",
     "output_type": "stream",
     "text": [
      "2\n",
      "4\n",
      "16\n",
      "256\n",
      "65536\n"
     ]
    }
   ],
   "source": [
    "# * Create a while loop that starts at 2, and \n",
    "# * displays the number squared on each line \n",
    "# * while the number is less than 1,000,000. \n",
    "# * Output should equal:\n",
    "# 2\n",
    "# 4\n",
    "# 16\n",
    "# 256\n",
    "# 65536\n",
    "i = 2\n",
    "while i < 1000000:\n",
    "    print(i)\n",
    "    i = i * i\n"
   ]
  },
  {
   "cell_type": "markdown",
   "id": "96be5e40",
   "metadata": {},
   "source": [
    "* Write a loop that uses print to create the output shown below.\n",
    "\n",
    "\n",
    "100\n",
    "95\n",
    "90\n",
    "85\n",
    "80\n",
    "75\n",
    "70\n",
    "65\n",
    "60\n",
    "55\n",
    "50\n",
    "45\n",
    "40\n",
    "35\n",
    "30\n",
    "25\n",
    "20\n",
    "15\n",
    "10\n",
    "5"
   ]
  },
  {
   "cell_type": "code",
   "execution_count": 28,
   "id": "cff72cc3",
   "metadata": {
    "collapsed": true
   },
   "outputs": [
    {
     "name": "stdout",
     "output_type": "stream",
     "text": [
      "100\n",
      "95\n",
      "90\n",
      "85\n",
      "80\n",
      "75\n",
      "70\n",
      "65\n",
      "60\n",
      "55\n",
      "50\n",
      "45\n",
      "40\n",
      "35\n",
      "30\n",
      "25\n",
      "20\n",
      "15\n",
      "10\n",
      "5\n"
     ]
    }
   ],
   "source": [
    "i = 100\n",
    "while i > 0:\n",
    "    print (i)\n",
    "    i += -5"
   ]
  },
  {
   "cell_type": "markdown",
   "id": "55060253",
   "metadata": {},
   "source": [
    "## For Loops\n",
    "\n",
    "#### Write some code that prompts the user for a number, \n",
    "#### then shows a multiplication table up through 10 for that number.\n",
    "\n",
    "For example, if the user enters 7, your program should output:\n",
    "\n",
    "\n",
    "7 x 1 = 7 |\n",
    "7 x 2 = 14 |\n",
    "7 x 3 = 21 |\n",
    "7 x 4 = 28 |\n",
    "7 x 5 = 35 |\n",
    "7 x 6 = 42 |\n",
    "7 x 7 = 49 |\n",
    "7 x 8 = 56 |\n",
    "7 x 9 = 63 |\n",
    "7 x 10 = 70 |"
   ]
  },
  {
   "cell_type": "code",
   "execution_count": 35,
   "id": "0f60c98e",
   "metadata": {},
   "outputs": [
    {
     "name": "stdout",
     "output_type": "stream",
     "text": [
      "What's a good number...? 4.25\n",
      "4.25 x 1 = 4.25\n",
      "4.25 x 2 = 8.5\n",
      "4.25 x 3 = 12.75\n",
      "4.25 x 4 = 17.0\n",
      "4.25 x 5 = 21.25\n",
      "4.25 x 6 = 25.5\n",
      "4.25 x 7 = 29.75\n",
      "4.25 x 8 = 34.0\n",
      "4.25 x 9 = 38.25\n",
      "4.25 x 10 = 42.5\n"
     ]
    }
   ],
   "source": [
    "i = float(input('What\\'s a good number...? '))\n",
    "for n in range(1,11):\n",
    "    p = round(i * n, 3)\n",
    "    print (f'{i} x {n} = {p}')"
   ]
  },
  {
   "cell_type": "markdown",
   "id": "219a8b01",
   "metadata": {},
   "source": [
    "Create a for loop that uses print to create the output shown below.\n",
    "\n",
    "\n",
    "1\n",
    "22\n",
    "333\n",
    "4444\n",
    "55555\n",
    "666666\n",
    "7777777\n",
    "88888888\n",
    "999999999"
   ]
  },
  {
   "cell_type": "code",
   "execution_count": 36,
   "id": "fa21a7a5",
   "metadata": {},
   "outputs": [
    {
     "name": "stdout",
     "output_type": "stream",
     "text": [
      "1\n",
      "22\n",
      "333\n",
      "4444\n",
      "55555\n",
      "666666\n",
      "7777777\n",
      "88888888\n",
      "999999999\n"
     ]
    }
   ],
   "source": [
    "for i in range (9):\n",
    "    i += 1\n",
    "    i = str(i) * i\n",
    "    print(i)"
   ]
  },
  {
   "cell_type": "markdown",
   "id": "8ddc866b",
   "metadata": {},
   "source": [
    "## break and continue\n",
    "\n",
    "Prompt the user for an odd number between 1 and 50. Use a loop and a break statement to continue prompting the user if they enter invalid input. (Hint: use the isdigit method on strings to determine this). Use a loop and the continue statement to output all the odd numbers between 1 and 50, except for the number the user entered.\n",
    "\n",
    "Your output should look like this:\n",
    "\n",
    "\n",
    "Number to skip is: 27\n",
    "\n",
    "Here is an odd number: 1\n",
    "Here is an odd number: 3\n",
    "Here is an odd number: 5\n",
    "Here is an odd number: 7\n",
    "Here is an odd number: 9\n",
    "Here is an odd number: 11\n",
    "Here is an odd number: 13\n",
    "Here is an odd number: 15\n",
    "Here is an odd number: 17\n",
    "Here is an odd number: 19\n",
    "Here is an odd number: 21\n",
    "Here is an odd number: 23\n",
    "Here is an odd number: 25\n",
    "Yikes! Skipping number: 27\n",
    "Here is an odd number: 29\n",
    "Here is an odd number: 31\n",
    "Here is an odd number: 33\n",
    "Here is an odd number: 35\n",
    "Here is an odd number: 37\n",
    "Here is an odd number: 39\n",
    "Here is an odd number: 41\n",
    "Here is an odd number: 43\n",
    "Here is an odd number: 45\n",
    "Here is an odd number: 47\n",
    "Here is an odd number: 49"
   ]
  },
  {
   "cell_type": "code",
   "execution_count": null,
   "id": "0b2c8baa",
   "metadata": {},
   "outputs": [
    {
     "name": "stdout",
     "output_type": "stream",
     "text": [
      "Please enter an odd number between 1 and 50... twenty\n",
      "What does that mean??\n"
     ]
    }
   ],
   "source": [
    "def is_odd(a):\n",
    "    return a % 2 == 1\n",
    "\n",
    "c = True\n",
    "\n",
    "while c == True:\n",
    "    i = input('Please enter an odd number between 1 and 50... ')\n",
    "    if i.isdigit():\n",
    "        if is_odd(int(i)):\n",
    "            break\n",
    "        else: print('That is not odd!')\n",
    "    else: print('What does that mean??') \n",
    "print(f'Number to skip is: {i}')\n",
    "\n",
    "for \n",
    "    \n",
    "\n",
    "\n"
   ]
  },
  {
   "cell_type": "code",
   "execution_count": null,
   "id": "f188a1a1",
   "metadata": {},
   "outputs": [],
   "source": [
    "print('this cell')"
   ]
  },
  {
   "cell_type": "code",
   "execution_count": 1,
   "id": "faa54e67",
   "metadata": {},
   "outputs": [
    {
     "name": "stdout",
     "output_type": "stream",
     "text": [
      "this is broken!!!\n"
     ]
    }
   ],
   "source": [
    "print('this is broken!!!')"
   ]
  },
  {
   "cell_type": "markdown",
   "id": "0f30a786",
   "metadata": {},
   "source": [
    "The input function can be used to prompt for input and use that input in your python code. Prompt the user to enter a positive number and write a loop that counts from 0 to that number. (Hints: first make sure that the value the user entered is a valid number, also note that the input function returns a string, so you'll need to convert this to a numeric type.)\n",
    "\n",
    "Write a program that prompts the user for a positive integer. Next write a loop that prints out the numbers from the number the user entered down to 1.\n",
    "\n",
    "Fizzbuzz\n",
    "\n",
    "One of the most common interview questions for entry-level programmers is the FizzBuzz test. Developed by Imran Ghory, the test is designed to test basic looping and conditional logic skills.\n",
    "\n",
    "Write a program that prints the numbers from 1 to 100.\n",
    "For multiples of three print \"Fizz\" instead of the number\n",
    "For the multiples of five print \"Buzz\".\n",
    "For numbers which are multiples of both three and five print \"FizzBuzz\".\n",
    "Display a table of powers.\n",
    "\n",
    "Prompt the user to enter an integer.\n",
    "Display a table of squares and cubes from 1 to the value entered.\n",
    "Ask if the user wants to continue.\n",
    "Assume that the user will enter valid data.\n",
    "Only continue if the user agrees to.\n",
    "Example Output\n",
    "\n",
    "\n",
    "What number would you like to go up to? 5\n",
    "\n",
    "Here is your table!\n",
    "\n",
    "number | squared | cubed\n",
    "------ | ------- | -----\n",
    "1      | 1       | 1\n",
    "2      | 4       | 8\n",
    "3      | 9       | 27\n",
    "4      | 16      | 64\n",
    "5      | 25      | 125\n",
    "Bonus: Research python's format string specifiers to align the table\n",
    "\n",
    "Convert given number grades into letter grades.\n",
    "\n",
    "Prompt the user for a numerical grade from 0 to 100.\n",
    "Display the corresponding letter grade.\n",
    "Prompt the user to continue.\n",
    "Assume that the user will enter valid integers for the grades.\n",
    "The application should only continue if the user agrees to.\n",
    "Grade Ranges:\n",
    "\n",
    "A : 100 - 88\n",
    "B : 87 - 80\n",
    "C : 79 - 67\n",
    "D : 66 - 60\n",
    "F : 59 - 0\n",
    "Bonus\n",
    "\n",
    "Edit your grade ranges to include pluses and minuses (ex: 99-100 = A+).\n",
    "Create a list of dictionaries where each dictionary represents a book that you have read. Each dictionary in the list should have the keys title, author, and genre. Loop through the list and print out information about each book.\n",
    "\n",
    "Prompt the user to enter a genre, then loop through your books list and print out the titles of all the books in that genre."
   ]
  }
 ],
 "metadata": {
  "kernelspec": {
   "display_name": "Python 3 (ipykernel)",
   "language": "python",
   "name": "python3"
  },
  "language_info": {
   "codemirror_mode": {
    "name": "ipython",
    "version": 3
   },
   "file_extension": ".py",
   "mimetype": "text/x-python",
   "name": "python",
   "nbconvert_exporter": "python",
   "pygments_lexer": "ipython3",
   "version": "3.9.12"
  }
 },
 "nbformat": 4,
 "nbformat_minor": 5
}
