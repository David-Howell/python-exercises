{
 "cells": [
  {
   "cell_type": "markdown",
   "id": "73e480f3",
   "metadata": {},
   "source": [
    "# Exercises\n",
    "### Create a file named function_exercises.py for this exercise. \n",
    "* After creating each function specified below, write the necessary code in order to test your function."
   ]
  },
  {
   "cell_type": "markdown",
   "id": "e83fcb9b",
   "metadata": {},
   "source": [
    "1. Define a function named is_two. It should accept one input and return True if the passed input is either the number or the string 2, False otherwise."
   ]
  },
  {
   "cell_type": "code",
   "execution_count": 1,
   "id": "45ce5ca1",
   "metadata": {},
   "outputs": [],
   "source": [
    "def is_two(x):\n",
    "    '''\n",
    "    is_two is a function that accepts one input \n",
    "    and returns True if the passed input is \n",
    "    either the number or the string 2,\n",
    "    False otherwise\n",
    "    '''\n",
    "    return x == '2' or x == 2"
   ]
  },
  {
   "cell_type": "code",
   "execution_count": 2,
   "id": "d32e05fe",
   "metadata": {},
   "outputs": [
    {
     "name": "stdout",
     "output_type": "stream",
     "text": [
      "Enter 2 2\n"
     ]
    },
    {
     "data": {
      "text/plain": [
       "True"
      ]
     },
     "execution_count": 2,
     "metadata": {},
     "output_type": "execute_result"
    }
   ],
   "source": [
    "x = input('Enter 2 ')\n",
    "is_two(x)"
   ]
  },
  {
   "cell_type": "code",
   "execution_count": 3,
   "id": "d4f195d6",
   "metadata": {},
   "outputs": [
    {
     "name": "stdout",
     "output_type": "stream",
     "text": [
      "0   False\n",
      "1   False\n",
      "2   True\n",
      "3   False\n",
      "4   False\n"
     ]
    }
   ],
   "source": [
    "for i in range (5):\n",
    "    x = i\n",
    "    print(i, ' ', is_two(x))"
   ]
  },
  {
   "cell_type": "markdown",
   "id": "435790e1",
   "metadata": {},
   "source": [
    "2. Define a function named is_vowel. It should return True if the passed string is a vowel, False otherwise."
   ]
  },
  {
   "cell_type": "code",
   "execution_count": 28,
   "id": "56b20ff9",
   "metadata": {},
   "outputs": [],
   "source": [
    "def is_vowel(x):\n",
    "    '''\n",
    "    is_vowel takes an input and changes it to a string if it isn't\n",
    "    if the string is in the list of vowels and it's length is 1 it returns True\n",
    "    if it's not both it returns False\n",
    "    '''\n",
    "    x = str(x)\n",
    "    if x in 'aeiouAEIOU' and len(x) == 1:\n",
    "        return True\n",
    "    else: return False"
   ]
  },
  {
   "cell_type": "code",
   "execution_count": 5,
   "id": "74c9e2c9",
   "metadata": {},
   "outputs": [
    {
     "name": "stdout",
     "output_type": "stream",
     "text": [
      "Enter a vowel e\n",
      "True\n"
     ]
    }
   ],
   "source": [
    "a = input('Enter a vowel ')\n",
    "print(is_vowel(a))"
   ]
  },
  {
   "cell_type": "code",
   "execution_count": 6,
   "id": "4bd82026",
   "metadata": {},
   "outputs": [
    {
     "data": {
      "text/plain": [
       "False"
      ]
     },
     "execution_count": 6,
     "metadata": {},
     "output_type": "execute_result"
    }
   ],
   "source": [
    "is_vowel(2)"
   ]
  },
  {
   "cell_type": "markdown",
   "id": "eb5a87b7",
   "metadata": {},
   "source": [
    "#### 3. Define a function named is_consonant. It should return True if the passed string is a consonant, False otherwise. Use your is_vowel function to accomplish this."
   ]
  },
  {
   "cell_type": "code",
   "execution_count": 29,
   "id": "0abbde3e",
   "metadata": {},
   "outputs": [],
   "source": [
    "def is_consonant(x):\n",
    "    '''\n",
    "    is_consonant takes an input and makes it a string\n",
    "    if the string is in the consonants and the length is 1 it returns True\n",
    "    otherwise it returns False\n",
    "    '''\n",
    "    x = str(x)\n",
    "    if x in 'qwrtypsdfghjklzxcvbnmQWRTYPSDFGHJKLZXCVBNM' and len(x) == 1:\n",
    "        return True\n",
    "    else: return False"
   ]
  },
  {
   "cell_type": "code",
   "execution_count": 8,
   "id": "2a8c3117",
   "metadata": {},
   "outputs": [
    {
     "name": "stdout",
     "output_type": "stream",
     "text": [
      "Enter a consonant t\n",
      "True\n"
     ]
    }
   ],
   "source": [
    "a = input('Enter a consonant ')\n",
    "print(is_consonant(a))"
   ]
  },
  {
   "cell_type": "markdown",
   "id": "0f137938",
   "metadata": {},
   "source": [
    "#### 4. Define a function that accepts a string that is a word. The function should capitalize the first letter of the word if the word starts with a consonant."
   ]
  },
  {
   "cell_type": "code",
   "execution_count": 30,
   "id": "ba525cb1",
   "metadata": {},
   "outputs": [],
   "source": [
    "def cap_that_con(x):\n",
    "    '''\n",
    "    cap_that_con takes a string input\n",
    "    if the first letter is a consonant it capitalizes the word\n",
    "    '''\n",
    "    if is_consonant(x[:1]):\n",
    "        x = x.capitalize()\n",
    "    return x"
   ]
  },
  {
   "cell_type": "code",
   "execution_count": 10,
   "id": "309071de",
   "metadata": {},
   "outputs": [
    {
     "name": "stdout",
     "output_type": "stream",
     "text": [
      "Enter a word, any word! test\n",
      "\n",
      " Test \n",
      "\n",
      "Enter a word, any word! quit\n",
      "\n",
      " Quit \n",
      "\n"
     ]
    }
   ],
   "source": [
    "i = 'while'\n",
    "while i.lower() != 'quit':\n",
    "    i = input('Enter a word, any word! ')\n",
    "    print('\\n', cap_that_con(i), '\\n')"
   ]
  },
  {
   "cell_type": "markdown",
   "id": "d26d2a5a",
   "metadata": {},
   "source": [
    "#### 5. Define a function named calculate_tip. It should accept a tip percentage (a number between 0 and 1) and the bill total, and return the amount to tip."
   ]
  },
  {
   "cell_type": "code",
   "execution_count": 11,
   "id": "2b1087f7",
   "metadata": {},
   "outputs": [],
   "source": [
    "# use def to define the function with two inputs:\n",
    "#     The tip percentage as a decimal >> tip - which will be a float\n",
    "#     The amount of the tab >> tab - entered as a float or int\n",
    "def calculate_tip(tip, tab):\n",
    "    '''\n",
    "    calculate_tip takes an input of a tip percentage as a decimal between 0 and 1 \n",
    "    and a tab amount as an integer or float\n",
    "    it returns a sentence that explains: \n",
    "    \"If you tip tip% on a $tab tab the tip amount is $tip_amount for a total of $total_with_tip \"\n",
    "    '''\n",
    "#     if the tab is entered as an int it is changed to a float:\n",
    "#         this will be used for formating purposes in the output string discussed below\n",
    "    tab = float(tab)\n",
    "#     the tip amount is calculated by multipling the input percentage by the input tab:\n",
    "#         round is used to get a whole cent value as we're used to with money\n",
    "    tip_amount = round(tip * tab, 2)\n",
    "#     the tip and tab are added together, and again we round to 2 digits so the output isn't broken by float errors\n",
    "    total_with_tip = round(tab + tip_amount, 2)\n",
    "#     the next three if statements do the same thing to our three variables for display:\n",
    "#         first check to see if the value is equivalent to the round value\n",
    "#             this would be the case if the float is equivalent to an int\n",
    "#         second check to see if the value times 10 is equivalent to the round value times 10\n",
    "#             this would be the case if the number of cents is a multiple of 10\n",
    "    if tip_amount == round(tip_amount) or tip_amount * 10 == round(tip_amount * 10): \n",
    "#         if either of the foregoing conditions are true we convert the float to a str and add a '0'\n",
    "#             as such, the decimal will be displayed as 2 digits\n",
    "        tip_amount = str(tip_amount) + '0'\n",
    "    if tab == round(tab) or tab * 10 == round(tab * 10):\n",
    "        tab = str(tab) + '0'\n",
    "    if total_with_tip == round(total_with_tip) or total_with_tip * 10 == round(total_with_tip * 10):\n",
    "        total_with_tip = str(total_with_tip) + '0'\n",
    "#         finally we return a string as a sentence detailing:\n",
    "#             the tip percentage, original tab, the tip in dollars, and the total\n",
    "#             this is formated so that used in a loop the data is nearly tabular \n",
    "    return f'If you tip {round(tip*100):>3}% on ${tab:>5} the tip amount is ${tip_amount:>5} for a total of ${total_with_tip}'"
   ]
  },
  {
   "cell_type": "code",
   "execution_count": 12,
   "id": "6243f1b1",
   "metadata": {},
   "outputs": [
    {
     "name": "stdout",
     "output_type": "stream",
     "text": [
      "If you tip  20% on $50.00 the tip amount is $10.00 for a total of $60.00\n"
     ]
    }
   ],
   "source": [
    "print(calculate_tip(.2, 50))"
   ]
  },
  {
   "cell_type": "code",
   "execution_count": 13,
   "id": "613b9146",
   "metadata": {
    "collapsed": true
   },
   "outputs": [
    {
     "name": "stdout",
     "output_type": "stream",
     "text": [
      "If you tip   1% on $49.37 the tip amount is $ 0.49 for a total of $49.86\n",
      "If you tip   2% on $95.24 the tip amount is $ 1.90 for a total of $97.14\n",
      "If you tip   3% on $71.50 the tip amount is $ 2.15 for a total of $73.65\n",
      "If you tip   4% on $13.69 the tip amount is $ 0.55 for a total of $14.24\n",
      "If you tip   5% on $29.45 the tip amount is $ 1.47 for a total of $30.92\n",
      "If you tip   6% on $27.10 the tip amount is $ 1.63 for a total of $28.73\n",
      "If you tip   7% on $72.65 the tip amount is $ 5.09 for a total of $77.74\n",
      "If you tip   8% on $24.16 the tip amount is $ 1.93 for a total of $26.09\n",
      "If you tip   9% on $12.58 the tip amount is $ 1.13 for a total of $13.71\n",
      "If you tip  10% on $85.01 the tip amount is $ 8.50 for a total of $93.51\n",
      "If you tip  11% on $56.02 the tip amount is $ 6.16 for a total of $62.18\n",
      "If you tip  12% on $52.46 the tip amount is $ 6.30 for a total of $58.76\n",
      "If you tip  13% on $37.45 the tip amount is $ 4.87 for a total of $42.32\n",
      "If you tip  14% on $69.25 the tip amount is $ 9.70 for a total of $78.95\n",
      "If you tip  15% on $80.14 the tip amount is $12.02 for a total of $92.16\n",
      "If you tip  16% on $51.73 the tip amount is $ 8.28 for a total of $60.01\n",
      "If you tip  17% on $85.07 the tip amount is $14.46 for a total of $99.53\n",
      "If you tip  18% on $ 6.91 the tip amount is $ 1.24 for a total of $8.15\n",
      "If you tip  19% on $90.78 the tip amount is $17.25 for a total of $108.03\n",
      "If you tip  20% on $ 9.73 the tip amount is $ 1.95 for a total of $11.68\n",
      "If you tip  21% on $86.27 the tip amount is $18.12 for a total of $104.39\n",
      "If you tip  22% on $45.73 the tip amount is $10.06 for a total of $55.79\n",
      "If you tip  23% on $57.96 the tip amount is $13.33 for a total of $71.29\n",
      "If you tip  24% on $69.85 the tip amount is $16.76 for a total of $86.61\n",
      "If you tip  25% on $49.30 the tip amount is $12.32 for a total of $61.62\n",
      "If you tip  26% on $23.91 the tip amount is $ 6.22 for a total of $30.13\n",
      "If you tip  27% on $58.49 the tip amount is $15.79 for a total of $74.28\n",
      "If you tip  28% on $57.13 the tip amount is $16.00 for a total of $73.13\n",
      "If you tip  29% on $41.23 the tip amount is $11.96 for a total of $53.19\n",
      "If you tip  30% on $69.37 the tip amount is $20.81 for a total of $90.18\n",
      "If you tip  31% on $30.21 the tip amount is $ 9.37 for a total of $39.58\n",
      "If you tip  32% on $20.17 the tip amount is $ 6.45 for a total of $26.62\n",
      "If you tip  33% on $52.67 the tip amount is $17.38 for a total of $70.05\n",
      "If you tip  34% on $37.81 the tip amount is $12.86 for a total of $50.67\n",
      "If you tip  35% on $23.50 the tip amount is $ 8.22 for a total of $31.72\n",
      "If you tip  36% on $28.96 the tip amount is $10.43 for a total of $39.39\n",
      "If you tip  37% on $71.20 the tip amount is $26.34 for a total of $97.54\n",
      "If you tip  38% on $79.82 the tip amount is $30.33 for a total of $110.15\n",
      "If you tip  39% on $37.60 the tip amount is $14.66 for a total of $52.26\n",
      "If you tip  40% on $62.10 the tip amount is $24.84 for a total of $86.94\n",
      "If you tip  41% on $72.59 the tip amount is $29.76 for a total of $102.35\n",
      "If you tip  42% on $43.75 the tip amount is $18.38 for a total of $62.13\n",
      "If you tip  43% on $80.36 the tip amount is $34.55 for a total of $114.91\n",
      "If you tip  44% on $29.10 the tip amount is $12.80 for a total of $41.90\n",
      "If you tip  45% on $75.96 the tip amount is $34.18 for a total of $110.14\n",
      "If you tip  46% on $13.95 the tip amount is $ 6.42 for a total of $20.37\n",
      "If you tip  47% on $87.30 the tip amount is $41.03 for a total of $128.33\n",
      "If you tip  48% on $37.82 the tip amount is $18.15 for a total of $55.97\n",
      "If you tip  49% on $53.06 the tip amount is $26.00 for a total of $79.06\n",
      "If you tip  50% on $48.51 the tip amount is $24.25 for a total of $72.76\n",
      "If you tip  51% on $90.62 the tip amount is $46.22 for a total of $136.84\n",
      "If you tip  52% on $ 1.36 the tip amount is $ 0.71 for a total of $2.07\n",
      "If you tip  53% on $34.78 the tip amount is $18.43 for a total of $53.21\n",
      "If you tip  54% on $23.40 the tip amount is $12.64 for a total of $36.04\n",
      "If you tip  55% on $26.57 the tip amount is $14.61 for a total of $41.18\n",
      "If you tip  56% on $63.10 the tip amount is $35.34 for a total of $98.44\n",
      "If you tip  57% on $23.04 the tip amount is $13.13 for a total of $36.17\n",
      "If you tip  58% on $37.21 the tip amount is $21.58 for a total of $58.79\n",
      "If you tip  59% on $32.61 the tip amount is $19.24 for a total of $51.85\n",
      "If you tip  60% on $81.05 the tip amount is $48.63 for a total of $129.68\n",
      "If you tip  61% on $17.80 the tip amount is $10.86 for a total of $28.66\n",
      "If you tip  62% on $25.14 the tip amount is $15.59 for a total of $40.73\n",
      "If you tip  63% on $56.84 the tip amount is $35.81 for a total of $92.65\n",
      "If you tip  64% on $42.79 the tip amount is $27.39 for a total of $70.18\n",
      "If you tip  65% on $10.82 the tip amount is $ 7.03 for a total of $17.85\n",
      "If you tip  66% on $45.08 the tip amount is $29.75 for a total of $74.83\n",
      "If you tip  67% on $70.21 the tip amount is $47.04 for a total of $117.25\n",
      "If you tip  68% on $26.49 the tip amount is $18.01 for a total of $44.50\n",
      "If you tip  69% on $ 8.67 the tip amount is $ 5.98 for a total of $14.65\n",
      "If you tip  70% on $39.10 the tip amount is $27.37 for a total of $66.47\n",
      "If you tip  71% on $30.14 the tip amount is $21.40 for a total of $51.54\n",
      "If you tip  72% on $28.76 the tip amount is $20.71 for a total of $49.47\n",
      "If you tip  73% on $12.93 the tip amount is $ 9.44 for a total of $22.37\n",
      "If you tip  74% on $87.21 the tip amount is $64.54 for a total of $151.75\n",
      "If you tip  75% on $43.61 the tip amount is $32.71 for a total of $76.32\n",
      "If you tip  76% on $70.86 the tip amount is $53.85 for a total of $124.71\n",
      "If you tip  77% on $71.84 the tip amount is $55.32 for a total of $127.16\n",
      "If you tip  78% on $ 7.93 the tip amount is $ 6.19 for a total of $14.12\n",
      "If you tip  79% on $51.06 the tip amount is $40.34 for a total of $91.40\n",
      "If you tip  80% on $40.85 the tip amount is $32.68 for a total of $73.53\n",
      "If you tip  81% on $46.07 the tip amount is $37.32 for a total of $83.39\n",
      "If you tip  82% on $30.97 the tip amount is $25.40 for a total of $56.37\n",
      "If you tip  83% on $96.32 the tip amount is $79.95 for a total of $176.27\n",
      "If you tip  84% on $80.46 the tip amount is $67.59 for a total of $148.05\n",
      "If you tip  85% on $37.92 the tip amount is $32.23 for a total of $70.15\n",
      "If you tip  86% on $17.59 the tip amount is $15.13 for a total of $32.72\n",
      "If you tip  87% on $49.85 the tip amount is $43.37 for a total of $93.22\n",
      "If you tip  88% on $92.63 the tip amount is $81.51 for a total of $174.14\n",
      "If you tip  89% on $35.07 the tip amount is $31.21 for a total of $66.28\n",
      "If you tip  90% on $19.30 the tip amount is $17.37 for a total of $36.67\n",
      "If you tip  91% on $37.51 the tip amount is $34.13 for a total of $71.64\n",
      "If you tip  92% on $16.74 the tip amount is $15.40 for a total of $32.14\n",
      "If you tip  93% on $21.58 the tip amount is $20.07 for a total of $41.65\n",
      "If you tip  94% on $52.07 the tip amount is $48.95 for a total of $101.02\n",
      "If you tip  95% on $49.02 the tip amount is $46.57 for a total of $95.59\n",
      "If you tip  96% on $ 9.84 the tip amount is $ 9.45 for a total of $19.29\n",
      "If you tip  97% on $47.95 the tip amount is $46.51 for a total of $94.46\n",
      "If you tip  98% on $36.24 the tip amount is $35.52 for a total of $71.76\n",
      "If you tip  99% on $ 1.86 the tip amount is $ 1.84 for a total of $3.70\n",
      "If you tip 100% on $67.91 the tip amount is $67.91 for a total of $135.82\n"
     ]
    }
   ],
   "source": [
    "import random\n",
    "for x in range (100):\n",
    "    x += 1\n",
    "    x /= 100\n",
    "    y = float(''.join (random.sample([str(x) for x in range(10)], 4))) / 100\n",
    "    print(calculate_tip(x,y))"
   ]
  },
  {
   "cell_type": "markdown",
   "id": "be72c3fc",
   "metadata": {},
   "source": [
    "#### 6. Define a function named apply_discount. It should accept an original price, and a discount percentage, and return the price after the discount is applied."
   ]
  },
  {
   "cell_type": "code",
   "execution_count": 15,
   "id": "80bc5596",
   "metadata": {},
   "outputs": [],
   "source": [
    "def apply_discount(oprice, discount = 0.0):\n",
    "    '''\n",
    "    apply_discount takes in (originalprice[, discount percentage]) and outputs the discounted price\n",
    "    '''\n",
    "    dprice = oprice - oprice * discount\n",
    "    return dprice"
   ]
  },
  {
   "cell_type": "code",
   "execution_count": 16,
   "id": "e8cc9451",
   "metadata": {},
   "outputs": [
    {
     "name": "stdout",
     "output_type": "stream",
     "text": [
      "40.0\n",
      "5.0\n",
      "700.0\n",
      "70.0\n"
     ]
    }
   ],
   "source": [
    "print(apply_discount(50, .2))\n",
    "print(apply_discount(10, .5))\n",
    "print(apply_discount(1000, .3))\n",
    "print(apply_discount(70))"
   ]
  },
  {
   "cell_type": "markdown",
   "id": "3793fa32",
   "metadata": {},
   "source": [
    "#### 7. Define a function named handle_commas. It should accept a string that is a number that contains commas in it as input, and return a number as output."
   ]
  },
  {
   "cell_type": "code",
   "execution_count": 36,
   "id": "529c590f",
   "metadata": {},
   "outputs": [],
   "source": [
    "def handle_commas(string_o_nums_with_commas):\n",
    "    '''\n",
    "    handle_commas takes in a string of numbers with commas and replaces them with underscores\n",
    "    x is saved as that string, and then is returned as a float\n",
    "    '''\n",
    "    x = string_o_nums_with_commas.replace(',','_')\n",
    "    return (float(x))"
   ]
  },
  {
   "cell_type": "code",
   "execution_count": 34,
   "id": "0a73bde2",
   "metadata": {},
   "outputs": [
    {
     "name": "stdout",
     "output_type": "stream",
     "text": [
      "1000000.0\n",
      "1235486971.0\n"
     ]
    }
   ],
   "source": [
    "print(handle_commas('1,000,000'))\n",
    "print(handle_commas('1,2,3,5,4,8,6,9,7,1'))"
   ]
  },
  {
   "cell_type": "markdown",
   "id": "1973aec4",
   "metadata": {},
   "source": [
    "#### 8. Define a function named get_letter_grade. It should accept a number and return the letter grade associated with that number (A-F)."
   ]
  },
  {
   "cell_type": "code",
   "execution_count": 19,
   "id": "e4252d7d",
   "metadata": {},
   "outputs": [],
   "source": [
    "def get_letter_grade(z):\n",
    "    '''\n",
    "    get_letter_grade takes a number and prints the letter grade for that number\n",
    "    the only caveat is that the number 42 is the meaning of everything and as such prints differently\n",
    "    NOTE: if you are using this to get the letter grade of your score and your score is 42... that's an F\n",
    "    '''\n",
    "    if z == 42: print(z, '! That\\'s the meaning of everything!')\n",
    "    elif z >= 90: print(z,'is an A')\n",
    "    elif z >= 80: print(z,'is a B')\n",
    "    elif z >= 70: print(z, 'is a C')\n",
    "    elif z > 60: print(z, 'is a D')\n",
    "    elif z <= 60: print(z, 'is an F')"
   ]
  },
  {
   "cell_type": "code",
   "execution_count": 20,
   "id": "77ce9fdb",
   "metadata": {},
   "outputs": [
    {
     "name": "stdout",
     "output_type": "stream",
     "text": [
      "100 is an A\n",
      "93 is an A\n",
      "87 is a B\n",
      "80 is a B\n",
      "74 is a C\n",
      "70 is a C\n",
      "66 is a D\n",
      "61 is a D\n",
      "60 is an F\n",
      "42 ! That's the meaning of everything!\n"
     ]
    }
   ],
   "source": [
    "get_letter_grade(100)\n",
    "get_letter_grade(93)\n",
    "get_letter_grade(87)\n",
    "get_letter_grade(80)\n",
    "get_letter_grade(74)\n",
    "get_letter_grade(70)\n",
    "get_letter_grade(66)\n",
    "get_letter_grade(61)\n",
    "get_letter_grade(60)\n",
    "get_letter_grade(42)"
   ]
  },
  {
   "cell_type": "markdown",
   "id": "f6b2ff7e",
   "metadata": {},
   "source": [
    "#### 9. Define a function named remove_vowels that accepts a string and returns a string with all the vowels removed."
   ]
  },
  {
   "cell_type": "code",
   "execution_count": 37,
   "id": "8118df14",
   "metadata": {},
   "outputs": [],
   "source": [
    "def remove_vowels(this_string):\n",
    "    '''\n",
    "    remove_vowels takes in a string\n",
    "    a new string is returned that has each character from the input string joined\n",
    "    as long as that character isn't a lowercase or uppercase vowel\n",
    "    '''\n",
    "    return ''.join([l for l in this_string if l not in 'aeiouAEIOU'])"
   ]
  },
  {
   "cell_type": "code",
   "execution_count": 22,
   "id": "001c978e",
   "metadata": {},
   "outputs": [
    {
     "name": "stdout",
     "output_type": "stream",
     "text": [
      "Type a sentence for vowel removal... test this sentence\n",
      "tst ths sntnc\n"
     ]
    }
   ],
   "source": [
    "i = input('Type a sentence for vowel removal... ')\n",
    "print(remove_vowels(i))"
   ]
  },
  {
   "cell_type": "markdown",
   "id": "6e49fd0a",
   "metadata": {},
   "source": [
    "#### 10. Define a function named normalize_name. It should accept a string and return a valid python identifier, that is:\n",
    "  * anything that is not a valid python identifier should be removed\n",
    "  * leading and trailing whitespace should be removed\n",
    "  * everything should be lowercase\n",
    "  * spaces should be replaced with underscores\n",
    "  * for example:\n",
    "   * Name will become name\n",
    "   * First Name will become first_name\n",
    "   * % Completed will become completed"
   ]
  },
  {
   "cell_type": "code",
   "execution_count": 23,
   "id": "d2f470bf",
   "metadata": {},
   "outputs": [
    {
     "name": "stdout",
     "output_type": "stream",
     "text": [
      "Object `str.isidentifer` not found.\n"
     ]
    }
   ],
   "source": [
    "str.isidentifer?"
   ]
  },
  {
   "cell_type": "code",
   "execution_count": 38,
   "id": "ad9d30d3",
   "metadata": {},
   "outputs": [],
   "source": [
    "def normalize_name(string_here):\n",
    "    '''\n",
    "    normalize name takes a string in:\n",
    "        it strips the string to remove leading and trailing spaces (e.g. ' ')\n",
    "        it then lower cases the string and replaces any remaining spaces as underscores\n",
    "        after that it saves a new string joined character by character from the string \n",
    "            if the character is a letter, numeral, or underscore\n",
    "        finally any remaining underscores are striped from the saved string\n",
    "        and the string is returned\n",
    "    '''\n",
    "    string_here = ((string_here.strip()).lower()).replace(' ', '_')\n",
    "    string_here = ''.join([c for c in string_here if c in 'qwertyuiopasdfghjklzxcvbnm1234567890_'])\n",
    "    string_here = string_here.strip('_')\n",
    "    return string_here "
   ]
  },
  {
   "cell_type": "code",
   "execution_count": 39,
   "id": "44746370",
   "metadata": {},
   "outputs": [
    {
     "name": "stdout",
     "output_type": "stream",
     "text": [
      "happy_times_are_here\n"
     ]
    }
   ],
   "source": [
    "print(normalize_name(' %$ Happy times aRE HERE!  '))\n"
   ]
  },
  {
   "cell_type": "markdown",
   "id": "6d6d3b36",
   "metadata": {},
   "source": [
    "#### 11. Write a function named cumulative_sum that accepts a list of numbers and returns a list that is the cumulative sum of the numbers in the list.\n",
    "   * cumulative_sum([1, 1, 1]) returns [1, 2, 3]\n",
    "   * cumulative_sum([1, 2, 3, 4]) returns [1, 3, 6, 10]"
   ]
  },
  {
   "cell_type": "code",
   "execution_count": 26,
   "id": "7f0d29b4",
   "metadata": {},
   "outputs": [],
   "source": [
    "def cumulative_sum(num_list):\n",
    "    '''\n",
    "    cumulative_sum takes in a list of numbers\n",
    "    a counter: 'start' is set to zero\n",
    "    an empty list is saved as sum_num_list\n",
    "    \n",
    "    for each number in the input list 'num_list' the number is added to the counter 'start'\n",
    "    the new list 'sum_num_list' is then appended with the new value saved in start\n",
    "    \n",
    "    after the for loop ends the resultant list 'sum_num_list' is returned\n",
    "    '''\n",
    "    start = 0\n",
    "    sum_num_list = []\n",
    "    for num in num_list:\n",
    "        start = num + start\n",
    "        sum_num_list.append(start)\n",
    "    return sum_num_list"
   ]
  },
  {
   "cell_type": "code",
   "execution_count": 27,
   "id": "8c02c66a",
   "metadata": {},
   "outputs": [
    {
     "name": "stdout",
     "output_type": "stream",
     "text": [
      "[1, 3, 6, 10, 15]\n",
      "[3, 9, 10, 17, 20, 26, 34]\n",
      "[1, 6, 8, 11, 13, 15, 17]\n"
     ]
    }
   ],
   "source": [
    "print(cumulative_sum([1,2,3,4,5]))\n",
    "print(cumulative_sum([3,6,1,7,3,6,8]))\n",
    "print(cumulative_sum([1,5,2,3,2,2,2]))\n"
   ]
  },
  {
   "cell_type": "markdown",
   "id": "cfd0c07d",
   "metadata": {},
   "source": [
    "### Additional Exercise\n",
    "  #### * Once you've completed the above exercises, follow the directions from https://gist.github.com/zgulde/ec8ed80ad8216905cda83d5645c60886 in order to thouroughly comment your code to explain your code."
   ]
  },
  {
   "cell_type": "markdown",
   "id": "b2e1044f",
   "metadata": {},
   "source": [
    "### Bonus\n",
    "#### 1. Create a function named twelveto24. It should accept a string in the format 10:45am or 4:30pm and return a string that is the representation of the time in a 24-hour format. Bonus write a function that does the opposite."
   ]
  },
  {
   "cell_type": "markdown",
   "id": "465c96ca",
   "metadata": {},
   "source": [
    "#### 2. Create a function named col_index. It should accept a spreadsheet column name, and return the index number of the column.\n",
    "  * col_index('A') returns 1\n",
    "  * col_index('B') returns 2\n",
    "  * col_index('AA') returns 27"
   ]
  }
 ],
 "metadata": {
  "kernelspec": {
   "display_name": "Python 3 (ipykernel)",
   "language": "python",
   "name": "python3"
  },
  "language_info": {
   "codemirror_mode": {
    "name": "ipython",
    "version": 3
   },
   "file_extension": ".py",
   "mimetype": "text/x-python",
   "name": "python",
   "nbconvert_exporter": "python",
   "pygments_lexer": "ipython3",
   "version": "3.9.12"
  }
 },
 "nbformat": 4,
 "nbformat_minor": 5
}
