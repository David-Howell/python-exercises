{
 "cells": [
  {
   "cell_type": "markdown",
   "id": "dd1a8f32",
   "metadata": {},
   "source": [
    "# Exercises\n",
    "### Create a file named function_exercises.py for this exercise. \n",
    "* After creating each function specified below, write the necessary code in order to test your function."
   ]
  },
  {
   "cell_type": "markdown",
   "id": "c2798fa8",
   "metadata": {},
   "source": [
    "1. Define a function named is_two. It should accept one input and return True if the passed input is either the number or the string 2, False otherwise."
   ]
  },
  {
   "cell_type": "code",
   "execution_count": 1,
   "id": "851a9cf5",
   "metadata": {},
   "outputs": [],
   "source": [
    "def is_two(x):\n",
    "    '''\n",
    "    is_two is a function that accepts one input \n",
    "    and returns True if the passed input is \n",
    "    either the number or the string 2,\n",
    "    False otherwise\n",
    "    '''\n",
    "    return x == '2' or x == 2"
   ]
  },
  {
   "cell_type": "code",
   "execution_count": 3,
   "id": "f5e97266",
   "metadata": {},
   "outputs": [
    {
     "name": "stdout",
     "output_type": "stream",
     "text": [
      "Enter 2 2\n"
     ]
    },
    {
     "data": {
      "text/plain": [
       "True"
      ]
     },
     "execution_count": 3,
     "metadata": {},
     "output_type": "execute_result"
    }
   ],
   "source": [
    "x = input('Enter 2 ')\n",
    "is_two(x)"
   ]
  },
  {
   "cell_type": "code",
   "execution_count": 7,
   "id": "ce531778",
   "metadata": {},
   "outputs": [
    {
     "name": "stdout",
     "output_type": "stream",
     "text": [
      "0   False\n",
      "1   False\n",
      "2   True\n",
      "3   False\n",
      "4   False\n"
     ]
    }
   ],
   "source": [
    "for i in range (5):\n",
    "    x = i\n",
    "    print(i, ' ', is_two(x))"
   ]
  },
  {
   "cell_type": "markdown",
   "id": "56cc3ad3",
   "metadata": {},
   "source": [
    "2. Define a function named is_vowel. It should return True if the passed string is a vowel, False otherwise."
   ]
  },
  {
   "cell_type": "code",
   "execution_count": 198,
   "id": "5bd95ff4",
   "metadata": {},
   "outputs": [],
   "source": [
    "def is_vowel(x):\n",
    "    x = str(x)\n",
    "    if x in 'aeiouAEIOU' and len(x) == 1:\n",
    "        return True\n",
    "    else: return False"
   ]
  },
  {
   "cell_type": "code",
   "execution_count": 199,
   "id": "01420f3c",
   "metadata": {},
   "outputs": [
    {
     "name": "stdout",
     "output_type": "stream",
     "text": [
      "Enter a vowel f\n",
      "False\n"
     ]
    }
   ],
   "source": [
    "a = input('Enter a vowel ')\n",
    "print(is_vowel(a))"
   ]
  },
  {
   "cell_type": "code",
   "execution_count": 200,
   "id": "e933acb7",
   "metadata": {},
   "outputs": [
    {
     "data": {
      "text/plain": [
       "False"
      ]
     },
     "execution_count": 200,
     "metadata": {},
     "output_type": "execute_result"
    }
   ],
   "source": [
    "is_vowel(2)"
   ]
  },
  {
   "cell_type": "markdown",
   "id": "0de5b12f",
   "metadata": {},
   "source": [
    "#### 3. Define a function named is_consonant. It should return True if the passed string is a consonant, False otherwise. Use your is_vowel function to accomplish this."
   ]
  },
  {
   "cell_type": "code",
   "execution_count": 201,
   "id": "b7bed924",
   "metadata": {},
   "outputs": [],
   "source": [
    "def is_consonant(x):\n",
    "    x = str(x)\n",
    "    if x in 'qwrtypsdfghjklzxcvbnmQWRTYPSDFGHJKLZXCVBNM' and len(x) == 1:\n",
    "        return True\n",
    "    else: return False"
   ]
  },
  {
   "cell_type": "code",
   "execution_count": 205,
   "id": "e7d9c288",
   "metadata": {},
   "outputs": [
    {
     "name": "stdout",
     "output_type": "stream",
     "text": [
      "Enter a consonant J\n",
      "True\n"
     ]
    }
   ],
   "source": [
    "a = input('Enter a consonant ')\n",
    "print(is_consonant(a))"
   ]
  },
  {
   "cell_type": "markdown",
   "id": "781ed525",
   "metadata": {},
   "source": [
    "#### 4. Define a function that accepts a string that is a word. The function should capitalize the first letter of the word if the word starts with a consonant."
   ]
  },
  {
   "cell_type": "code",
   "execution_count": 207,
   "id": "d4fbdaf1",
   "metadata": {},
   "outputs": [],
   "source": [
    "def cap_that_con(x):\n",
    "#     if x[:1] in 'qwrtypsdfghjklzxcvbnmQWRTYPSDFGHJKLZXCVBNM':\n",
    "    if is_consonant(x[:1]):\n",
    "        x = x.capitalize()\n",
    "    return x"
   ]
  },
  {
   "cell_type": "code",
   "execution_count": 208,
   "id": "880b1cc5",
   "metadata": {
    "collapsed": true
   },
   "outputs": [
    {
     "name": "stdout",
     "output_type": "stream",
     "text": [
      "Enter a word, any word! grow\n",
      "\n",
      " Grow \n",
      "\n",
      "Enter a word, any word! alps\n",
      "\n",
      " alps \n",
      "\n",
      "Enter a word, any word! for\n",
      "\n",
      " For \n",
      "\n",
      "Enter a word, any word! Mountains\n",
      "\n",
      " Mountains \n",
      "\n",
      "Enter a word, any word! eldeberry\n",
      "\n",
      " eldeberry \n",
      "\n",
      "Enter a word, any word! quit\n",
      "\n",
      " Quit \n",
      "\n"
     ]
    }
   ],
   "source": [
    "i = 'while'\n",
    "while i.lower() != 'quit':\n",
    "    i = input('Enter a word, any word! ')\n",
    "    print('\\n', cap_that_con(i), '\\n')"
   ]
  },
  {
   "cell_type": "markdown",
   "id": "1bd026a0",
   "metadata": {},
   "source": [
    "#### 5. Define a function named calculate_tip. It should accept a tip percentage (a number between 0 and 1) and the bill total, and return the amount to tip."
   ]
  },
  {
   "cell_type": "code",
   "execution_count": 195,
   "id": "360edb2e",
   "metadata": {},
   "outputs": [],
   "source": [
    "# use def to define the function with two inputs:\n",
    "#     The tip percentage as a decimal >> tip - which will be a float\n",
    "#     The amount of the tab >> tab - entered as a float or int\n",
    "def calculate_tip(tip, tab):\n",
    "#     if the tab is entered as an int it is changed to a float:\n",
    "#         this will be used for formating purposes in the output string discussed below\n",
    "    tab = float(tab)\n",
    "#     the tip amount is calculated by multipling the input percentage by the input tab:\n",
    "#         round is used to get a whole cent value as we're used to with money\n",
    "    tip_amount = round(tip * tab, 2)\n",
    "#     the tip and tab are added together, and again we round to 2 digits so the output isn't broken by float errors\n",
    "    total_with_tip = round(tab + tip_amount, 2)\n",
    "#     the next three if statements do the same thing to our three variables for display:\n",
    "#         first check to see if the value is equivalent to the round value\n",
    "#             this would be the case if the float is equivalent to an int\n",
    "#         second check to see if the value times 10 is equivalent to the round value times 10\n",
    "#             this would be the case if the number of cents is a multiple of 10\n",
    "    if tip_amount == round(tip_amount) or tip_amount * 10 == round(tip_amount * 10): \n",
    "#         if either of the foregoing conditions are true we convert the float to a str and add a '0'\n",
    "#             as such, the decimal will be displayed as 2 digits\n",
    "        tip_amount = str(tip_amount) + '0'\n",
    "    if tab == round(tab) or tab * 10 == round(tab * 10):\n",
    "        tab = str(tab) + '0'\n",
    "    if total_with_tip == round(total_with_tip) or total_with_tip * 10 == round(total_with_tip * 10):\n",
    "        total_with_tip = str(total_with_tip) + '0'\n",
    "#         finally we return a string as a sentence detailing:\n",
    "#             the tip percentage, original tab, the tip in dollars, and the total\n",
    "#             this is formated so that used in a loop the data is nearly tabular \n",
    "    return f'If you tip {round(tip*100):>3}% on ${tab:>5} the tip amount is ${tip_amount:>5} for a total of ${total_with_tip}'"
   ]
  },
  {
   "cell_type": "code",
   "execution_count": 176,
   "id": "ef567349",
   "metadata": {},
   "outputs": [
    {
     "name": "stdout",
     "output_type": "stream",
     "text": [
      "If you tip 20% on a $50.00 tab the tip amount is $10.00 for a total of $60.00\n"
     ]
    }
   ],
   "source": [
    "print(calculate_tip(.2, 50))"
   ]
  },
  {
   "cell_type": "code",
   "execution_count": 196,
   "id": "3becca95",
   "metadata": {
    "collapsed": true
   },
   "outputs": [
    {
     "name": "stdout",
     "output_type": "stream",
     "text": [
      "If you tip   1% on $81.05 the tip amount is $ 0.81 for a total of $81.86\n",
      "If you tip   2% on $40.82 the tip amount is $ 0.82 for a total of $41.64\n",
      "If you tip   3% on $49.23 the tip amount is $ 1.48 for a total of $50.71\n",
      "If you tip   4% on $58.72 the tip amount is $ 2.35 for a total of $61.07\n",
      "If you tip   5% on $83.01 the tip amount is $ 4.15 for a total of $87.16\n",
      "If you tip   6% on $85.24 the tip amount is $ 5.11 for a total of $90.35\n",
      "If you tip   7% on $97.08 the tip amount is $ 6.80 for a total of $103.88\n",
      "If you tip   8% on $65.27 the tip amount is $ 5.22 for a total of $70.49\n",
      "If you tip   9% on $38.60 the tip amount is $ 3.47 for a total of $42.07\n",
      "If you tip  10% on $83.29 the tip amount is $ 8.33 for a total of $91.62\n",
      "If you tip  11% on $49.52 the tip amount is $ 5.45 for a total of $54.97\n",
      "If you tip  12% on $51.78 the tip amount is $ 6.21 for a total of $57.99\n",
      "If you tip  13% on $69.08 the tip amount is $ 8.98 for a total of $78.06\n",
      "If you tip  14% on $69.04 the tip amount is $ 9.67 for a total of $78.71\n",
      "If you tip  15% on $80.62 the tip amount is $12.09 for a total of $92.71\n",
      "If you tip  16% on $54.91 the tip amount is $ 8.79 for a total of $63.70\n",
      "If you tip  17% on $57.60 the tip amount is $ 9.79 for a total of $67.39\n",
      "If you tip  18% on $43.65 the tip amount is $ 7.86 for a total of $51.51\n",
      "If you tip  19% on $48.25 the tip amount is $ 9.17 for a total of $57.42\n",
      "If you tip  20% on $23.07 the tip amount is $ 4.61 for a total of $27.68\n",
      "If you tip  21% on $ 1.25 the tip amount is $ 0.26 for a total of $1.51\n",
      "If you tip  22% on $56.80 the tip amount is $12.50 for a total of $69.30\n",
      "If you tip  23% on $86.42 the tip amount is $19.88 for a total of $106.30\n",
      "If you tip  24% on $26.81 the tip amount is $ 6.43 for a total of $33.24\n",
      "If you tip  25% on $71.52 the tip amount is $17.88 for a total of $89.40\n",
      "If you tip  26% on $47.96 the tip amount is $12.47 for a total of $60.43\n",
      "If you tip  27% on $29.01 the tip amount is $ 7.83 for a total of $36.84\n",
      "If you tip  28% on $56.14 the tip amount is $15.72 for a total of $71.86\n",
      "If you tip  29% on $78.51 the tip amount is $22.77 for a total of $101.28\n",
      "If you tip  30% on $21.38 the tip amount is $ 6.41 for a total of $27.79\n",
      "If you tip  31% on $14.58 the tip amount is $ 4.52 for a total of $19.10\n",
      "If you tip  32% on $93.75 the tip amount is $30.00 for a total of $123.75\n",
      "If you tip  33% on $20.71 the tip amount is $ 6.83 for a total of $27.54\n",
      "If you tip  34% on $84.21 the tip amount is $28.63 for a total of $112.84\n",
      "If you tip  35% on $48.05 the tip amount is $16.82 for a total of $64.87\n",
      "If you tip  36% on $93.56 the tip amount is $33.68 for a total of $127.24\n",
      "If you tip  37% on $37.80 the tip amount is $13.99 for a total of $51.79\n",
      "If you tip  38% on $73.15 the tip amount is $27.80 for a total of $100.95\n",
      "If you tip  39% on $17.85 the tip amount is $ 6.96 for a total of $24.81\n",
      "If you tip  40% on $65.21 the tip amount is $26.08 for a total of $91.29\n",
      "If you tip  41% on $26.39 the tip amount is $10.82 for a total of $37.21\n",
      "If you tip  42% on $16.45 the tip amount is $ 6.91 for a total of $23.36\n",
      "If you tip  43% on $34.61 the tip amount is $14.88 for a total of $49.49\n",
      "If you tip  44% on $98.07 the tip amount is $43.15 for a total of $141.22\n",
      "If you tip  45% on $ 4.75 the tip amount is $ 2.14 for a total of $6.89\n",
      "If you tip  46% on $95.28 the tip amount is $43.83 for a total of $139.11\n",
      "If you tip  47% on $93.45 the tip amount is $43.92 for a total of $137.37\n",
      "If you tip  48% on $49.53 the tip amount is $23.77 for a total of $73.30\n",
      "If you tip  49% on $61.54 the tip amount is $30.15 for a total of $91.69\n",
      "If you tip  50% on $95.23 the tip amount is $47.62 for a total of $142.85\n",
      "If you tip  51% on $10.56 the tip amount is $ 5.39 for a total of $15.95\n",
      "If you tip  52% on $54.73 the tip amount is $28.46 for a total of $83.19\n",
      "If you tip  53% on $95.76 the tip amount is $50.75 for a total of $146.51\n",
      "If you tip  54% on $48.10 the tip amount is $25.97 for a total of $74.07\n",
      "If you tip  55% on $ 8.35 the tip amount is $ 4.59 for a total of $12.94\n",
      "If you tip  56% on $18.62 the tip amount is $10.43 for a total of $29.05\n",
      "If you tip  57% on $32.16 the tip amount is $18.33 for a total of $50.49\n",
      "If you tip  58% on $52.18 the tip amount is $30.26 for a total of $82.44\n",
      "If you tip  59% on $65.83 the tip amount is $38.84 for a total of $104.67\n",
      "If you tip  60% on $91.64 the tip amount is $54.98 for a total of $146.62\n",
      "If you tip  61% on $32.16 the tip amount is $19.62 for a total of $51.78\n",
      "If you tip  62% on $91.27 the tip amount is $56.59 for a total of $147.86\n",
      "If you tip  63% on $ 6.18 the tip amount is $ 3.89 for a total of $10.07\n",
      "If you tip  64% on $16.83 the tip amount is $10.77 for a total of $27.60\n",
      "If you tip  65% on $58.63 the tip amount is $38.11 for a total of $96.74\n",
      "If you tip  66% on $20.68 the tip amount is $13.65 for a total of $34.33\n",
      "If you tip  67% on $61.23 the tip amount is $41.02 for a total of $102.25\n",
      "If you tip  68% on $52.09 the tip amount is $35.42 for a total of $87.51\n",
      "If you tip  69% on $90.32 the tip amount is $62.32 for a total of $152.64\n",
      "If you tip  70% on $51.89 the tip amount is $36.32 for a total of $88.21\n",
      "If you tip  71% on $85.97 the tip amount is $61.04 for a total of $147.01\n",
      "If you tip  72% on $32.40 the tip amount is $23.33 for a total of $55.73\n",
      "If you tip  73% on $ 9.14 the tip amount is $ 6.67 for a total of $15.81\n",
      "If you tip  74% on $87.41 the tip amount is $64.68 for a total of $152.09\n",
      "If you tip  75% on $16.85 the tip amount is $12.64 for a total of $29.49\n",
      "If you tip  76% on $20.81 the tip amount is $15.82 for a total of $36.63\n",
      "If you tip  77% on $52.03 the tip amount is $40.06 for a total of $92.09\n",
      "If you tip  78% on $45.60 the tip amount is $35.57 for a total of $81.17\n",
      "If you tip  79% on $32.01 the tip amount is $25.29 for a total of $57.30\n",
      "If you tip  80% on $54.96 the tip amount is $43.97 for a total of $98.93\n",
      "If you tip  81% on $50.34 the tip amount is $40.78 for a total of $91.12\n",
      "If you tip  82% on $71.40 the tip amount is $58.55 for a total of $129.95\n",
      "If you tip  83% on $91.26 the tip amount is $75.75 for a total of $167.01\n",
      "If you tip  84% on $73.46 the tip amount is $61.71 for a total of $135.17\n",
      "If you tip  85% on $34.08 the tip amount is $28.97 for a total of $63.05\n",
      "If you tip  86% on $ 8.64 the tip amount is $ 7.43 for a total of $16.07\n",
      "If you tip  87% on $14.35 the tip amount is $12.48 for a total of $26.83\n",
      "If you tip  88% on $82.17 the tip amount is $72.31 for a total of $154.48\n",
      "If you tip  89% on $52.61 the tip amount is $46.82 for a total of $99.43\n",
      "If you tip  90% on $86.15 the tip amount is $77.54 for a total of $163.69\n",
      "If you tip  91% on $ 2.41 the tip amount is $ 2.19 for a total of $4.60\n",
      "If you tip  92% on $78.49 the tip amount is $72.21 for a total of $150.70\n",
      "If you tip  93% on $24.59 the tip amount is $22.87 for a total of $47.46\n",
      "If you tip  94% on $13.47 the tip amount is $12.66 for a total of $26.13\n",
      "If you tip  95% on $85.67 the tip amount is $81.39 for a total of $167.06\n",
      "If you tip  96% on $41.93 the tip amount is $40.25 for a total of $82.18\n",
      "If you tip  97% on $36.58 the tip amount is $35.48 for a total of $72.06\n",
      "If you tip  98% on $97.06 the tip amount is $95.12 for a total of $192.18\n",
      "If you tip  99% on $71.98 the tip amount is $71.26 for a total of $143.24\n",
      "If you tip 100% on $43.87 the tip amount is $43.87 for a total of $87.74\n"
     ]
    }
   ],
   "source": [
    "import random\n",
    "for x in range (100):\n",
    "    x += 1\n",
    "    x /= 100\n",
    "    y = float(''.join (random.sample([str(x) for x in range(10)], 4))) / 100\n",
    "    print(calculate_tip(x,y))"
   ]
  },
  {
   "cell_type": "code",
   "execution_count": 90,
   "id": "6f305c1c",
   "metadata": {
    "collapsed": true
   },
   "outputs": [
    {
     "name": "stdout",
     "output_type": "stream",
     "text": [
      "if you tip 1% on $96.73 the tip and total are (0.97, 97.7)\n",
      "if you tip 2% on $12.65 the tip and total are (0.25, 12.9)\n",
      "if you tip 3% on $86.47 the tip and total are (2.59, 89.06)\n",
      "if you tip 4% on $75.46 the tip and total are (3.02, 78.48)\n",
      "if you tip 5% on $13.98 the tip and total are (0.7, 14.68)\n",
      "if you tip 6% on $35.09 the tip and total are (2.11, 37.2)\n",
      "if you tip 7% on $81.52 the tip and total are (5.71, 87.23)\n",
      "if you tip 8% on $27.03 the tip and total are (2.16, 29.19)\n",
      "if you tip 9% on $25.31 the tip and total are (2.28, 27.59)\n",
      "if you tip 10% on $59.48 the tip and total are (5.95, 65.43)\n",
      "if you tip 11% on $4.68 the tip and total are (0.51, 5.19)\n",
      "if you tip 12% on $37.1 the tip and total are (4.45, 41.55)\n",
      "if you tip 13% on $16.25 the tip and total are (2.11, 18.36)\n",
      "if you tip 14% on $48.52 the tip and total are (6.79, 55.31)\n",
      "if you tip 15% on $64.13 the tip and total are (9.62, 73.75)\n",
      "if you tip 16% on $28.51 the tip and total are (4.56, 33.07)\n",
      "if you tip 17% on $59.6 the tip and total are (10.13, 69.73)\n",
      "if you tip 18% on $73.01 the tip and total are (13.14, 86.15)\n",
      "if you tip 19% on $27.13 the tip and total are (5.15, 32.28)\n",
      "if you tip 20% on $53.62 the tip and total are (10.72, 64.34)\n",
      "if you tip 21% on $76.39 the tip and total are (16.04, 92.43)\n",
      "if you tip 22% on $86.32 the tip and total are (18.99, 105.31)\n",
      "if you tip 23% on $52.41 the tip and total are (12.05, 64.46)\n",
      "if you tip 24% on $78.05 the tip and total are (18.73, 96.78)\n",
      "if you tip 25% on $61.92 the tip and total are (15.48, 77.4)\n",
      "if you tip 26% on $26.47 the tip and total are (6.88, 33.35)\n",
      "if you tip 27% on $28.13 the tip and total are (7.6, 35.73)\n",
      "if you tip 28% on $97.61 the tip and total are (27.33, 124.94)\n",
      "if you tip 29% on $13.29 the tip and total are (3.85, 17.14)\n",
      "if you tip 30% on $46.98 the tip and total are (14.09, 61.07)\n",
      "if you tip 31% on $18.02 the tip and total are (5.59, 23.61)\n",
      "if you tip 32% on $26.74 the tip and total are (8.56, 35.3)\n",
      "if you tip 33% on $9.73 the tip and total are (3.21, 12.94)\n",
      "if you tip 34% on $12.94 the tip and total are (4.4, 17.34)\n",
      "if you tip 35% on $72.9 the tip and total are (25.52, 98.42)\n",
      "if you tip 36% on $17.63 the tip and total are (6.35, 23.98)\n",
      "if you tip 37% on $7.26 the tip and total are (2.69, 9.95)\n",
      "if you tip 38% on $78.96 the tip and total are (30.0, 108.96)\n",
      "if you tip 39% on $28.96 the tip and total are (11.29, 40.25)\n",
      "if you tip 40% on $84.1 the tip and total are (33.64, 117.74)\n",
      "if you tip 41% on $42.53 the tip and total are (17.44, 59.97)\n",
      "if you tip 42% on $40.97 the tip and total are (17.21, 58.18)\n",
      "if you tip 43% on $30.71 the tip and total are (13.21, 43.92)\n",
      "if you tip 44% on $45.07 the tip and total are (19.83, 64.9)\n",
      "if you tip 45% on $54.73 the tip and total are (24.63, 79.36)\n",
      "if you tip 46% on $28.4 the tip and total are (13.06, 41.46)\n",
      "if you tip 47% on $14.02 the tip and total are (6.59, 20.61)\n",
      "if you tip 48% on $51.38 the tip and total are (24.66, 76.04)\n",
      "if you tip 49% on $97.64 the tip and total are (47.84, 145.48)\n",
      "if you tip 50% on $28.7 the tip and total are (14.35, 43.05)\n",
      "if you tip 51% on $87.34 the tip and total are (44.54, 131.88)\n",
      "if you tip 52% on $50.76 the tip and total are (26.4, 77.16)\n",
      "if you tip 53% on $64.79 the tip and total are (34.34, 99.13)\n",
      "if you tip 54% on $85.37 the tip and total are (46.1, 131.47)\n",
      "if you tip 55% on $2.38 the tip and total are (1.31, 3.69)\n",
      "if you tip 56% on $21.78 the tip and total are (12.2, 33.98)\n",
      "if you tip 57% on $8.25 the tip and total are (4.7, 12.95)\n",
      "if you tip 58% on $83.9 the tip and total are (48.66, 132.56)\n",
      "if you tip 59% on $1.86 the tip and total are (1.1, 2.96)\n",
      "if you tip 60% on $23.04 the tip and total are (13.82, 36.86)\n",
      "if you tip 61% on $13.29 the tip and total are (8.11, 21.4)\n",
      "if you tip 62% on $34.67 the tip and total are (21.5, 56.17)\n",
      "if you tip 63% on $70.83 the tip and total are (44.62, 115.45)\n",
      "if you tip 64% on $57.46 the tip and total are (36.77, 94.23)\n",
      "if you tip 65% on $68.23 the tip and total are (44.35, 112.58)\n",
      "if you tip 66% on $61.37 the tip and total are (40.5, 101.87)\n",
      "if you tip 67% on $76.02 the tip and total are (50.93, 126.95)\n",
      "if you tip 68% on $18.02 the tip and total are (12.25, 30.27)\n",
      "if you tip 69% on $83.6 the tip and total are (57.68, 141.28)\n",
      "if you tip 70% on $39.87 the tip and total are (27.91, 67.78)\n",
      "if you tip 71% on $13.74 the tip and total are (9.76, 23.5)\n",
      "if you tip 72% on $47.63 the tip and total are (34.29, 81.92)\n",
      "if you tip 73% on $31.58 the tip and total are (23.05, 54.63)\n",
      "if you tip 74% on $27.89 the tip and total are (20.64, 48.53)\n",
      "if you tip 75% on $1.63 the tip and total are (1.22, 2.85)\n",
      "if you tip 76% on $14.8 the tip and total are (11.25, 26.05)\n",
      "if you tip 77% on $3.94 the tip and total are (3.03, 6.97)\n",
      "if you tip 78% on $28.46 the tip and total are (22.2, 50.66)\n",
      "if you tip 79% on $79.31 the tip and total are (62.65, 141.96)\n",
      "if you tip 80% on $74.81 the tip and total are (59.85, 134.66)\n",
      "if you tip 81% on $97.51 the tip and total are (78.98, 176.49)\n",
      "if you tip 82% on $45.76 the tip and total are (37.52, 83.28)\n",
      "if you tip 83% on $50.24 the tip and total are (41.7, 91.94)\n",
      "if you tip 84% on $70.95 the tip and total are (59.6, 130.55)\n",
      "if you tip 85% on $92.8 the tip and total are (78.88, 171.68)\n",
      "if you tip 86% on $37.04 the tip and total are (31.85, 68.89)\n",
      "if you tip 87% on $21.6 the tip and total are (18.79, 40.39)\n",
      "if you tip 88% on $80.43 the tip and total are (70.78, 151.21)\n",
      "if you tip 89% on $75.34 the tip and total are (67.05, 142.39)\n",
      "if you tip 90% on $25.06 the tip and total are (22.55, 47.61)\n",
      "if you tip 91% on $76.09 the tip and total are (69.24, 145.33)\n",
      "if you tip 92% on $36.42 the tip and total are (33.51, 69.93)\n",
      "if you tip 93% on $4.67 the tip and total are (4.34, 9.01)\n",
      "if you tip 94% on $28.9 the tip and total are (27.17, 56.07)\n",
      "if you tip 95% on $32.71 the tip and total are (31.07, 63.78)\n",
      "if you tip 96% on $10.95 the tip and total are (10.51, 21.46)\n",
      "if you tip 97% on $45.03 the tip and total are (43.68, 88.71)\n",
      "if you tip 98% on $49.15 the tip and total are (48.17, 97.32)\n",
      "if you tip 99% on $1.67 the tip and total are (1.65, 3.32)\n",
      "if you tip 100% on $67.1 the tip and total are (67.1, 134.2)\n"
     ]
    }
   ],
   "source": [
    "import random\n",
    "for x in range(1, 101):\n",
    "    x /= 100\n",
    "    y = float(''.join (random.sample([str(x) for x in range(10)], 4))) / 100\n",
    "    print(f'if you tip {round(x*100)}% on ${y} the tip and total are {calculate_tip(x,y)}')"
   ]
  },
  {
   "cell_type": "markdown",
   "id": "7b329f7e",
   "metadata": {},
   "source": [
    "#### 6. Define a function named apply_discount. It should accept an original price, and a discount percentage, and return the price after the discount is applied."
   ]
  },
  {
   "cell_type": "code",
   "execution_count": 209,
   "id": "0838b17f",
   "metadata": {},
   "outputs": [],
   "source": [
    "def apply_discount(oprice, discount = 0.0):\n",
    "    dprice = oprice - oprice * discount\n",
    "    return dprice"
   ]
  },
  {
   "cell_type": "code",
   "execution_count": 211,
   "id": "04dd894e",
   "metadata": {},
   "outputs": [
    {
     "name": "stdout",
     "output_type": "stream",
     "text": [
      "40.0\n",
      "5.0\n",
      "700.0\n",
      "70.0\n"
     ]
    }
   ],
   "source": [
    "print(apply_discount(50, .2))\n",
    "print(apply_discount(10, .5))\n",
    "print(apply_discount(1000, .3))\n",
    "print(apply_discount(70))"
   ]
  },
  {
   "cell_type": "markdown",
   "id": "f0155e91",
   "metadata": {},
   "source": [
    "#### 7. Define a function named handle_commas. It should accept a string that is a number that contains commas in it as input, and return a number as output."
   ]
  },
  {
   "cell_type": "code",
   "execution_count": 106,
   "id": "0b812b90",
   "metadata": {},
   "outputs": [],
   "source": [
    "def handle_commas(string_o_nums_with_commas):\n",
    "    x = string_o_nums_with_commas.replace(',','')\n",
    "    return int(x)"
   ]
  },
  {
   "cell_type": "code",
   "execution_count": 107,
   "id": "53ea078e",
   "metadata": {},
   "outputs": [
    {
     "name": "stdout",
     "output_type": "stream",
     "text": [
      "1000000\n",
      "1235486971\n"
     ]
    }
   ],
   "source": [
    "print(handle_commas('1,000,000'))\n",
    "print(handle_commas('1,2,3,5,4,8,6,9,7,1'))"
   ]
  },
  {
   "cell_type": "markdown",
   "id": "946f67fc",
   "metadata": {},
   "source": [
    "#### 8. Define a function named get_letter_grade. It should accept a number and return the letter grade associated with that number (A-F)."
   ]
  },
  {
   "cell_type": "code",
   "execution_count": 214,
   "id": "6f7cc00b",
   "metadata": {},
   "outputs": [],
   "source": [
    "def get_letter_grade(z):\n",
    "    if z == 42: print(z, '! That\\'s the meaning of everything!')\n",
    "    elif z >= 90: print(z,'is an A')\n",
    "    elif z >= 80: print(z,'is a B')\n",
    "    elif z >= 70: print(z, 'is a C')\n",
    "    elif z > 60: print(z, 'is a D')\n",
    "    elif z <= 60: print(z, 'is an F')"
   ]
  },
  {
   "cell_type": "code",
   "execution_count": 215,
   "id": "45a91b6d",
   "metadata": {},
   "outputs": [
    {
     "name": "stdout",
     "output_type": "stream",
     "text": [
      "100 is an A\n",
      "93 is an A\n",
      "87 is a B\n",
      "80 is a B\n",
      "74 is a C\n",
      "70 is a C\n",
      "66 is a D\n",
      "61 is a D\n",
      "60 is an F\n",
      "42 ! That's the meaning of everything!\n"
     ]
    }
   ],
   "source": [
    "get_letter_grade(100)\n",
    "get_letter_grade(93)\n",
    "get_letter_grade(87)\n",
    "get_letter_grade(80)\n",
    "get_letter_grade(74)\n",
    "get_letter_grade(70)\n",
    "get_letter_grade(66)\n",
    "get_letter_grade(61)\n",
    "get_letter_grade(60)\n",
    "get_letter_grade(42)"
   ]
  },
  {
   "cell_type": "markdown",
   "id": "0a266671",
   "metadata": {},
   "source": [
    "#### 9. Define a function named remove_vowels that accepts a string and returns a string with all the vowels removed."
   ]
  },
  {
   "cell_type": "code",
   "execution_count": 133,
   "id": "e6df6157",
   "metadata": {},
   "outputs": [],
   "source": [
    "def remove_vowels(this_string):\n",
    "    return ''.join([l for l in this_string if l not in 'aeiouAEIOU'])"
   ]
  },
  {
   "cell_type": "code",
   "execution_count": 134,
   "id": "2ec4c5a0",
   "metadata": {},
   "outputs": [
    {
     "name": "stdout",
     "output_type": "stream",
     "text": [
      "Type a sentence for vowel removal... this is a test only a test... ummm\n",
      "ths s  tst nly  tst... mmm\n"
     ]
    }
   ],
   "source": [
    "i = input('Type a sentence for vowel removal... ')\n",
    "print(remove_vowels(i))"
   ]
  },
  {
   "cell_type": "markdown",
   "id": "a8551da3",
   "metadata": {},
   "source": [
    "#### 10. Define a function named normalize_name. It should accept a string and return a valid python identifier, that is:\n",
    "  * anything that is not a valid python identifier should be removed\n",
    "  * leading and trailing whitespace should be removed\n",
    "  * everything should be lowercase\n",
    "  * spaces should be replaced with underscores\n",
    "  * for example:\n",
    "   * Name will become name\n",
    "   * First Name will become first_name\n",
    "   * % Completed will become completed"
   ]
  },
  {
   "cell_type": "code",
   "execution_count": 216,
   "id": "3b457bca",
   "metadata": {},
   "outputs": [
    {
     "name": "stdout",
     "output_type": "stream",
     "text": [
      "Object `str.isidentifer` not found.\n"
     ]
    }
   ],
   "source": [
    "str.isidentifer?"
   ]
  },
  {
   "cell_type": "code",
   "execution_count": 153,
   "id": "eabf32dc",
   "metadata": {},
   "outputs": [],
   "source": [
    "def normalize_name(string_here):\n",
    "    string_here = ((string_here.strip()).lower()).replace(' ', '_')\n",
    "    string_here = ''.join([c for c in string_here if c in 'qwertyuiopasdfghjklzxcvbnm1234567890_'])\n",
    "    string_here = string_here.strip('_')\n",
    "    return string_here "
   ]
  },
  {
   "cell_type": "code",
   "execution_count": 154,
   "id": "998ffb13",
   "metadata": {},
   "outputs": [
    {
     "name": "stdout",
     "output_type": "stream",
     "text": [
      "happy_times_are_here\n"
     ]
    }
   ],
   "source": [
    "print(normalize_name(' %$ Happy times aRE HERE!  '))\n"
   ]
  },
  {
   "cell_type": "markdown",
   "id": "4c2afdd3",
   "metadata": {},
   "source": [
    "#### 11. Write a function named cumulative_sum that accepts a list of numbers and returns a list that is the cumulative sum of the numbers in the list.\n",
    "   * cumulative_sum([1, 1, 1]) returns [1, 2, 3]\n",
    "   * cumulative_sum([1, 2, 3, 4]) returns [1, 3, 6, 10]"
   ]
  },
  {
   "cell_type": "code",
   "execution_count": 161,
   "id": "6584def0",
   "metadata": {},
   "outputs": [],
   "source": [
    "def cumulative_sum(num_list):\n",
    "    start = 0\n",
    "    sum_num_list = []\n",
    "    for num in num_list:\n",
    "        start = num + start\n",
    "        sum_num_list.append(start)\n",
    "    return sum_num_list"
   ]
  },
  {
   "cell_type": "code",
   "execution_count": 164,
   "id": "95a42ba0",
   "metadata": {},
   "outputs": [
    {
     "name": "stdout",
     "output_type": "stream",
     "text": [
      "[1, 3, 6, 10, 15]\n",
      "[3, 9, 10, 17, 20, 26, 34]\n",
      "[1, 6, 8, 11, 13, 15, 17]\n"
     ]
    }
   ],
   "source": [
    "print(cumulative_sum([1,2,3,4,5]))\n",
    "print(cumulative_sum([3,6,1,7,3,6,8]))\n",
    "print(cumulative_sum([1,5,2,3,2,2,2]))\n"
   ]
  },
  {
   "cell_type": "markdown",
   "id": "6f825f28",
   "metadata": {},
   "source": [
    "### Additional Exercise\n",
    "  #### * Once you've completed the above exercises, follow the directions from https://gist.github.com/zgulde/ec8ed80ad8216905cda83d5645c60886 in order to thouroughly comment your code to explain your code."
   ]
  },
  {
   "cell_type": "markdown",
   "id": "8e3cd5b6",
   "metadata": {},
   "source": [
    "### Bonus\n",
    "#### 1. Create a function named twelveto24. It should accept a string in the format 10:45am or 4:30pm and return a string that is the representation of the time in a 24-hour format. Bonus write a function that does the opposite."
   ]
  },
  {
   "cell_type": "markdown",
   "id": "2a69880f",
   "metadata": {},
   "source": [
    "#### 2. Create a function named col_index. It should accept a spreadsheet column name, and return the index number of the column.\n",
    "  * col_index('A') returns 1\n",
    "  * col_index('B') returns 2\n",
    "  * col_index('AA') returns 27"
   ]
  }
 ],
 "metadata": {
  "kernelspec": {
   "display_name": "Python 3 (ipykernel)",
   "language": "python",
   "name": "python3"
  },
  "language_info": {
   "codemirror_mode": {
    "name": "ipython",
    "version": 3
   },
   "file_extension": ".py",
   "mimetype": "text/x-python",
   "name": "python",
   "nbconvert_exporter": "python",
   "pygments_lexer": "ipython3",
   "version": "3.9.12"
  }
 },
 "nbformat": 4,
 "nbformat_minor": 5
}
