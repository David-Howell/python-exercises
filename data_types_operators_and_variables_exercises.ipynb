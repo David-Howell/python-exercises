{
 "cells": [
  {
   "cell_type": "code",
   "execution_count": 1,
   "id": "0c7bbfe3",
   "metadata": {},
   "outputs": [
    {
     "data": {
      "text/plain": [
       "float"
      ]
     },
     "execution_count": 1,
     "metadata": {},
     "output_type": "execute_result"
    }
   ],
   "source": [
    "type(99.9)"
   ]
  },
  {
   "cell_type": "code",
   "execution_count": 2,
   "id": "1010f427",
   "metadata": {},
   "outputs": [
    {
     "data": {
      "text/plain": [
       "str"
      ]
     },
     "execution_count": 2,
     "metadata": {},
     "output_type": "execute_result"
    }
   ],
   "source": [
    "type(\"False\")"
   ]
  },
  {
   "cell_type": "code",
   "execution_count": 3,
   "id": "78ce2f08",
   "metadata": {},
   "outputs": [
    {
     "data": {
      "text/plain": [
       "bool"
      ]
     },
     "execution_count": 3,
     "metadata": {},
     "output_type": "execute_result"
    }
   ],
   "source": [
    "type(False)"
   ]
  },
  {
   "cell_type": "code",
   "execution_count": 4,
   "id": "8f5b4a8f",
   "metadata": {},
   "outputs": [
    {
     "data": {
      "text/plain": [
       "str"
      ]
     },
     "execution_count": 4,
     "metadata": {},
     "output_type": "execute_result"
    }
   ],
   "source": [
    "type('0')"
   ]
  },
  {
   "cell_type": "code",
   "execution_count": 5,
   "id": "3c074cf6",
   "metadata": {},
   "outputs": [
    {
     "data": {
      "text/plain": [
       "int"
      ]
     },
     "execution_count": 5,
     "metadata": {},
     "output_type": "execute_result"
    }
   ],
   "source": [
    "type(0)"
   ]
  },
  {
   "cell_type": "code",
   "execution_count": 6,
   "id": "c5d46f81",
   "metadata": {},
   "outputs": [
    {
     "data": {
      "text/plain": [
       "bool"
      ]
     },
     "execution_count": 6,
     "metadata": {},
     "output_type": "execute_result"
    }
   ],
   "source": [
    "type(True)"
   ]
  },
  {
   "cell_type": "code",
   "execution_count": 7,
   "id": "81c8ec00",
   "metadata": {},
   "outputs": [
    {
     "data": {
      "text/plain": [
       "str"
      ]
     },
     "execution_count": 7,
     "metadata": {},
     "output_type": "execute_result"
    }
   ],
   "source": [
    "type('True')"
   ]
  },
  {
   "cell_type": "code",
   "execution_count": 8,
   "id": "03a7ff90",
   "metadata": {},
   "outputs": [
    {
     "data": {
      "text/plain": [
       "list"
      ]
     },
     "execution_count": 8,
     "metadata": {},
     "output_type": "execute_result"
    }
   ],
   "source": [
    "type([{}])"
   ]
  },
  {
   "cell_type": "code",
   "execution_count": 9,
   "id": "5844fe03",
   "metadata": {},
   "outputs": [
    {
     "data": {
      "text/plain": [
       "dict"
      ]
     },
     "execution_count": 9,
     "metadata": {},
     "output_type": "execute_result"
    }
   ],
   "source": [
    "type({'a':[]})"
   ]
  },
  {
   "cell_type": "markdown",
   "id": "d535c657",
   "metadata": {},
   "source": [
    "# What data type would best represent:\n",
    "\n",
    "* A term or phrase typed into a search box?\n",
    "    * str\n",
    "* If a user is logged in?\n",
    "    * bool\n",
    "* A discount amount to apply to a user's shopping cart?\n",
    "    * float\n",
    "* Whether or not a coupon code is valid?\n",
    "    * bool\n",
    "* An email address typed into a registration form?\n",
    "    * str\n",
    "* The price of a product?\n",
    "    * float\n",
    "* A Matrix?\n",
    "    * list\n",
    "* The email addresses collected from a registration form?\n",
    "    * list or maybe a dict\n",
    "* Information about applicants to Codeup's data science program?\n",
    "    * dict"
   ]
  },
  {
   "cell_type": "markdown",
   "id": "7185d6db",
   "metadata": {},
   "source": [
    "For each of the following code blocks, read the expression and predict what the result of evaluating it would be, then execute the expression in your Python REPL."
   ]
  },
  {
   "cell_type": "code",
   "execution_count": 10,
   "id": "ab2a77b5",
   "metadata": {},
   "outputs": [
    {
     "ename": "TypeError",
     "evalue": "can only concatenate str (not \"int\") to str",
     "output_type": "error",
     "traceback": [
      "\u001b[0;31m---------------------------------------------------------------------------\u001b[0m",
      "\u001b[0;31mTypeError\u001b[0m                                 Traceback (most recent call last)",
      "Input \u001b[0;32mIn [10]\u001b[0m, in \u001b[0;36m<cell line: 1>\u001b[0;34m()\u001b[0m\n\u001b[0;32m----> 1\u001b[0m \u001b[38;5;124;43m'\u001b[39;49m\u001b[38;5;124;43m1\u001b[39;49m\u001b[38;5;124;43m'\u001b[39;49m\u001b[43m \u001b[49m\u001b[38;5;241;43m+\u001b[39;49m\u001b[43m \u001b[49m\u001b[38;5;241;43m2\u001b[39;49m\n",
      "\u001b[0;31mTypeError\u001b[0m: can only concatenate str (not \"int\") to str"
     ]
    }
   ],
   "source": [
    "'1' + 2\n",
    "# Error can't add a str to an int"
   ]
  },
  {
   "cell_type": "code",
   "execution_count": 11,
   "id": "746e6edb",
   "metadata": {},
   "outputs": [
    {
     "data": {
      "text/plain": [
       "2"
      ]
     },
     "execution_count": 11,
     "metadata": {},
     "output_type": "execute_result"
    }
   ],
   "source": [
    "6 % 4\n",
    "# 2 because 6 divided by 4 is 1 remainder 2"
   ]
  },
  {
   "cell_type": "code",
   "execution_count": 12,
   "id": "18b879f4",
   "metadata": {},
   "outputs": [
    {
     "data": {
      "text/plain": [
       "int"
      ]
     },
     "execution_count": 12,
     "metadata": {},
     "output_type": "execute_result"
    }
   ],
   "source": [
    "# int\n",
    "type(6 % 4)"
   ]
  },
  {
   "cell_type": "code",
   "execution_count": 13,
   "id": "d5788872",
   "metadata": {},
   "outputs": [
    {
     "data": {
      "text/plain": [
       "type"
      ]
     },
     "execution_count": 13,
     "metadata": {},
     "output_type": "execute_result"
    }
   ],
   "source": [
    "# str\n",
    "type(type(6 % 4))\n",
    "#  type"
   ]
  },
  {
   "cell_type": "code",
   "execution_count": 14,
   "id": "8b5869eb",
   "metadata": {},
   "outputs": [
    {
     "ename": "TypeError",
     "evalue": "can only concatenate str (not \"int\") to str",
     "output_type": "error",
     "traceback": [
      "\u001b[0;31m---------------------------------------------------------------------------\u001b[0m",
      "\u001b[0;31mTypeError\u001b[0m                                 Traceback (most recent call last)",
      "Input \u001b[0;32mIn [14]\u001b[0m, in \u001b[0;36m<cell line: 2>\u001b[0;34m()\u001b[0m\n\u001b[1;32m      1\u001b[0m \u001b[38;5;66;03m# Error\u001b[39;00m\n\u001b[0;32m----> 2\u001b[0m \u001b[38;5;124;43m'\u001b[39;49m\u001b[38;5;124;43m3 + 4 is \u001b[39;49m\u001b[38;5;124;43m'\u001b[39;49m\u001b[43m \u001b[49m\u001b[38;5;241;43m+\u001b[39;49m\u001b[43m \u001b[49m\u001b[38;5;241;43m3\u001b[39;49m \u001b[38;5;241m+\u001b[39m \u001b[38;5;241m4\u001b[39m\n",
      "\u001b[0;31mTypeError\u001b[0m: can only concatenate str (not \"int\") to str"
     ]
    }
   ],
   "source": [
    "# Error\n",
    "'3 + 4 is ' + 3 + 4"
   ]
  },
  {
   "cell_type": "code",
   "execution_count": 15,
   "id": "33a2dfdf",
   "metadata": {},
   "outputs": [
    {
     "data": {
      "text/plain": [
       "False"
      ]
     },
     "execution_count": 15,
     "metadata": {},
     "output_type": "execute_result"
    }
   ],
   "source": [
    "# False\n",
    "0 < 0"
   ]
  },
  {
   "cell_type": "code",
   "execution_count": 16,
   "id": "195c8575",
   "metadata": {},
   "outputs": [
    {
     "data": {
      "text/plain": [
       "False"
      ]
     },
     "execution_count": 16,
     "metadata": {},
     "output_type": "execute_result"
    }
   ],
   "source": [
    "# False\n",
    "'False' == False"
   ]
  },
  {
   "cell_type": "code",
   "execution_count": 17,
   "id": "847372f8",
   "metadata": {},
   "outputs": [
    {
     "data": {
      "text/plain": [
       "False"
      ]
     },
     "execution_count": 17,
     "metadata": {},
     "output_type": "execute_result"
    }
   ],
   "source": [
    "# False\n",
    "True == 'True'"
   ]
  },
  {
   "cell_type": "code",
   "execution_count": 18,
   "id": "b0d1d23d",
   "metadata": {},
   "outputs": [
    {
     "data": {
      "text/plain": [
       "True"
      ]
     },
     "execution_count": 18,
     "metadata": {},
     "output_type": "execute_result"
    }
   ],
   "source": [
    "# True\n",
    "5 >= -5"
   ]
  },
  {
   "cell_type": "code",
   "execution_count": 19,
   "id": "fd990705",
   "metadata": {},
   "outputs": [
    {
     "data": {
      "text/plain": [
       "True"
      ]
     },
     "execution_count": 19,
     "metadata": {},
     "output_type": "execute_result"
    }
   ],
   "source": [
    "# True\n",
    "True or \"42\""
   ]
  },
  {
   "cell_type": "code",
   "execution_count": 20,
   "id": "3a068b8c",
   "metadata": {},
   "outputs": [
    {
     "data": {
      "text/plain": [
       "1"
      ]
     },
     "execution_count": 20,
     "metadata": {},
     "output_type": "execute_result"
    }
   ],
   "source": [
    "# 1\n",
    "6 % 5"
   ]
  },
  {
   "cell_type": "code",
   "execution_count": 21,
   "id": "e2b73532",
   "metadata": {},
   "outputs": [
    {
     "data": {
      "text/plain": [
       "False"
      ]
     },
     "execution_count": 21,
     "metadata": {},
     "output_type": "execute_result"
    }
   ],
   "source": [
    "# False\n",
    "5 < 4 and 1 == 1"
   ]
  },
  {
   "cell_type": "code",
   "execution_count": 22,
   "id": "095e6757",
   "metadata": {},
   "outputs": [
    {
     "data": {
      "text/plain": [
       "False"
      ]
     },
     "execution_count": 22,
     "metadata": {},
     "output_type": "execute_result"
    }
   ],
   "source": [
    "# False\n",
    "'codeup' == 'codeup' and 'codeup' == 'Codeup'"
   ]
  },
  {
   "cell_type": "code",
   "execution_count": 23,
   "id": "64ccae40",
   "metadata": {},
   "outputs": [
    {
     "ename": "SyntaxError",
     "evalue": "invalid syntax (3623673722.py, line 2)",
     "output_type": "error",
     "traceback": [
      "\u001b[0;36m  Input \u001b[0;32mIn [23]\u001b[0;36m\u001b[0m\n\u001b[0;31m    4 >= 0 and 1 !== '1'\u001b[0m\n\u001b[0m                   ^\u001b[0m\n\u001b[0;31mSyntaxError\u001b[0m\u001b[0;31m:\u001b[0m invalid syntax\n"
     ]
    }
   ],
   "source": [
    "# True\n",
    "4 >= 0 and 1 !== '1'\n",
    "# SyntaxError"
   ]
  },
  {
   "cell_type": "code",
   "execution_count": 24,
   "id": "8e7476c0",
   "metadata": {},
   "outputs": [
    {
     "data": {
      "text/plain": [
       "True"
      ]
     },
     "execution_count": 24,
     "metadata": {},
     "output_type": "execute_result"
    }
   ],
   "source": [
    "# True\n",
    "6 % 3 == 0"
   ]
  },
  {
   "cell_type": "code",
   "execution_count": 25,
   "id": "f8ab2ab6",
   "metadata": {},
   "outputs": [
    {
     "data": {
      "text/plain": [
       "True"
      ]
     },
     "execution_count": 25,
     "metadata": {},
     "output_type": "execute_result"
    }
   ],
   "source": [
    "# True\n",
    "5 % 2 != 0"
   ]
  },
  {
   "cell_type": "code",
   "execution_count": 26,
   "id": "df4b2b88",
   "metadata": {},
   "outputs": [
    {
     "ename": "TypeError",
     "evalue": "can only concatenate list (not \"int\") to list",
     "output_type": "error",
     "traceback": [
      "\u001b[0;31m---------------------------------------------------------------------------\u001b[0m",
      "\u001b[0;31mTypeError\u001b[0m                                 Traceback (most recent call last)",
      "Input \u001b[0;32mIn [26]\u001b[0m, in \u001b[0;36m<cell line: 2>\u001b[0;34m()\u001b[0m\n\u001b[1;32m      1\u001b[0m \u001b[38;5;66;03m# Error\u001b[39;00m\n\u001b[0;32m----> 2\u001b[0m \u001b[43m[\u001b[49m\u001b[38;5;241;43m1\u001b[39;49m\u001b[43m]\u001b[49m\u001b[43m \u001b[49m\u001b[38;5;241;43m+\u001b[39;49m\u001b[43m \u001b[49m\u001b[38;5;241;43m2\u001b[39;49m\n",
      "\u001b[0;31mTypeError\u001b[0m: can only concatenate list (not \"int\") to list"
     ]
    }
   ],
   "source": [
    "# Error\n",
    "[1] + 2"
   ]
  },
  {
   "cell_type": "code",
   "execution_count": 27,
   "id": "da316755",
   "metadata": {},
   "outputs": [
    {
     "data": {
      "text/plain": [
       "[1, 2]"
      ]
     },
     "execution_count": 27,
     "metadata": {},
     "output_type": "execute_result"
    }
   ],
   "source": [
    "# [1,2]\n",
    "[1] + [2]"
   ]
  },
  {
   "cell_type": "code",
   "execution_count": 28,
   "id": "0aaa8e62",
   "metadata": {},
   "outputs": [
    {
     "data": {
      "text/plain": [
       "[1, 1]"
      ]
     },
     "execution_count": 28,
     "metadata": {},
     "output_type": "execute_result"
    }
   ],
   "source": [
    "# [2]... or [1,1]... or Error\n",
    "[1] * 2\n",
    "# [1, 1]"
   ]
  },
  {
   "cell_type": "code",
   "execution_count": 29,
   "id": "b88d0c97",
   "metadata": {},
   "outputs": [
    {
     "ename": "TypeError",
     "evalue": "can't multiply sequence by non-int of type 'list'",
     "output_type": "error",
     "traceback": [
      "\u001b[0;31m---------------------------------------------------------------------------\u001b[0m",
      "\u001b[0;31mTypeError\u001b[0m                                 Traceback (most recent call last)",
      "Input \u001b[0;32mIn [29]\u001b[0m, in \u001b[0;36m<cell line: 1>\u001b[0;34m()\u001b[0m\n\u001b[0;32m----> 1\u001b[0m \u001b[43m[\u001b[49m\u001b[38;5;241;43m1\u001b[39;49m\u001b[43m]\u001b[49m\u001b[43m \u001b[49m\u001b[38;5;241;43m*\u001b[39;49m\u001b[43m \u001b[49m\u001b[43m[\u001b[49m\u001b[38;5;241;43m2\u001b[39;49m\u001b[43m]\u001b[49m\n",
      "\u001b[0;31mTypeError\u001b[0m: can't multiply sequence by non-int of type 'list'"
     ]
    }
   ],
   "source": [
    "# Error?\n",
    "[1] * [2]\n",
    "# Error!"
   ]
  },
  {
   "cell_type": "code",
   "execution_count": 30,
   "id": "ac26eb73",
   "metadata": {},
   "outputs": [
    {
     "data": {
      "text/plain": [
       "True"
      ]
     },
     "execution_count": 30,
     "metadata": {},
     "output_type": "execute_result"
    }
   ],
   "source": [
    "# True\n",
    "[] + [] == []"
   ]
  },
  {
   "cell_type": "code",
   "execution_count": 31,
   "id": "80f43401",
   "metadata": {},
   "outputs": [
    {
     "ename": "TypeError",
     "evalue": "unsupported operand type(s) for +: 'dict' and 'dict'",
     "output_type": "error",
     "traceback": [
      "\u001b[0;31m---------------------------------------------------------------------------\u001b[0m",
      "\u001b[0;31mTypeError\u001b[0m                                 Traceback (most recent call last)",
      "Input \u001b[0;32mIn [31]\u001b[0m, in \u001b[0;36m<cell line: 2>\u001b[0;34m()\u001b[0m\n\u001b[1;32m      1\u001b[0m \u001b[38;5;66;03m# {}\u001b[39;00m\n\u001b[0;32m----> 2\u001b[0m \u001b[43m{\u001b[49m\u001b[43m}\u001b[49m\u001b[43m \u001b[49m\u001b[38;5;241;43m+\u001b[39;49m\u001b[43m \u001b[49m\u001b[43m{\u001b[49m\u001b[43m}\u001b[49m\n",
      "\u001b[0;31mTypeError\u001b[0m: unsupported operand type(s) for +: 'dict' and 'dict'"
     ]
    }
   ],
   "source": [
    "# {}\n",
    "{} + {}\n",
    "# Error:unsupported operandtype +: 'dict' and 'dict'"
   ]
  },
  {
   "cell_type": "markdown",
   "id": "2638775b",
   "metadata": {},
   "source": [
    "# Create a Python script file named \n",
    "    \n",
    "   * data_types_and_variables.py \n",
    "       \n",
    "   * Inside it, write some Python code, that is, variables and operators, \n",
    "       \n",
    "        to describe the following scenarios. \n",
    "         \n",
    "   * Do not worry about the real operations to get the values, \n",
    "       \n",
    "        the goal of these exercises is to understand how \n",
    "           \n",
    "        real world conditions can be represented with code."
   ]
  },
  {
   "cell_type": "markdown",
   "id": "460756e1",
   "metadata": {},
   "source": [
    "# 1\n",
    "   * You have rented some movies for your kids: \n",
    "       \n",
    "       The little mermaid (for 3 days), \n",
    "       \n",
    "       Brother Bear (for 5 days, they love it), and \n",
    "       \n",
    "       Hercules (1 day, you don't know yet if they're going to like it). \n",
    "       \n",
    "       If price for a movie per day is 3 dollars, how much will you have to pay?"
   ]
  },
  {
   "cell_type": "code",
   "execution_count": 40,
   "id": "ea67372f",
   "metadata": {},
   "outputs": [
    {
     "data": {
      "text/plain": [
       "int"
      ]
     },
     "execution_count": 40,
     "metadata": {},
     "output_type": "execute_result"
    }
   ],
   "source": [
    "movies = [\n",
    "    {'title': 'The Little Mermaid', 'days_out': '3', 'rating': ''},\n",
    "    {'title': 'Brother Bear', 'days_out': '5', 'rating': 'great'},\n",
    "    {'title': 'Hercules', 'days_out': '1', 'rating': 'unknown'}]\n",
    "# print (movies[0])\n",
    "\n",
    "# print(movies['days_out'])\n",
    "# ----> 7 print(movies['days_out'])\n",
    "# \n",
    "# TypeError: list indices must be integers or slices, not str\n",
    "\n",
    "= # set a counter to 0 before a loop\n",
    "str # name the movies\n",
    "int # days rented\n",
    "* # multiply by\n",
    "int or float # dollar price for rental\n",
    "+= # add to the amount on each loop"
   ]
  },
  {
   "cell_type": "markdown",
   "id": "dd5f1792",
   "metadata": {},
   "source": [
    "# 2\n",
    "\n",
    "* Suppose you're working as a contractor for 3 companies: \n",
    "\n",
    "    * Google, Amazon and Facebook, they pay you a different rate per hour. \n",
    "    \n",
    "    \n",
    "        * Google pays 400 dollars per hour, \n",
    "        * Amazon 380, and \n",
    "        * Facebook 350.\n",
    "    \n",
    "    * How much will you receive in payment for this week? \n",
    "    \n",
    "        * You worked 10 hours for Facebook, \n",
    "        * 6 hours for Google and \n",
    "        * 4 hours for Amazon."
   ]
  },
  {
   "cell_type": "code",
   "execution_count": null,
   "id": "ce27884a",
   "metadata": {},
   "outputs": [],
   "source": [
    "str # name the companies\n",
    "int # dollars/hour\n",
    "* # multiply $/hr by hrs for each job\n",
    "float # hours worked\n",
    "+ # add the results"
   ]
  },
  {
   "cell_type": "markdown",
   "id": "b2eee5e1",
   "metadata": {},
   "source": [
    "# 3\n",
    "* A student can be enrolled to a class \n",
    "    \n",
    "    * only if the class is not full \n",
    "    \n",
    "    * and the class schedule does not conflict with her current schedule."
   ]
  },
  {
   "cell_type": "code",
   "execution_count": null,
   "id": "b59fcd3b",
   "metadata": {},
   "outputs": [],
   "source": [
    "str # student name\n",
    "int # num of people in class\n",
    "int # max class size\n",
    ">= # compare num of people in class and max class size\n",
    "bool # is class full\n",
    "list # all class schedule \n",
    "    float #  class time\n",
    "    int # class day (1-7)\n",
    "    str # class day (sun-sat)\n",
    "list # class schedule for individual\n",
    "    float\n",
    "    int\n",
    "    str\n",
    "bool # is class at same time as individual's schedule\n"
   ]
  },
  {
   "cell_type": "markdown",
   "id": "5aacc089",
   "metadata": {},
   "source": [
    "# 4\n",
    "* A product offer can be applied \n",
    "    * only if people buys more than 2 items, \n",
    "    * and the offer has not expired. \n",
    "    \n",
    "    * Premium members do not need to buy a specific amount of products."
   ]
  },
  {
   "cell_type": "code",
   "execution_count": null,
   "id": "16d4e46f",
   "metadata": {},
   "outputs": [],
   "source": [
    "int # num of items in cart\n",
    "float # time code since offer started\n",
    "float # amount of time offer exists\n",
    "bool # is amount of time longer than time alloted\n",
    "> # compare time codes\n",
    "bool # is premium member?"
   ]
  },
  {
   "cell_type": "code",
   "execution_count": 64,
   "id": "c538897d",
   "metadata": {},
   "outputs": [],
   "source": [
    "username = 'codeup'\n",
    "password = 'notastrongpassword'\n"
   ]
  },
  {
   "cell_type": "markdown",
   "id": "0cdfc776",
   "metadata": {},
   "source": [
    "# Create a variable that holds a boolean value for each of the following conditions:\n",
    "\n",
    "* the password must be at least 5 characters\n",
    "\n",
    "* the username must be no more than 20 characters\n",
    "\n",
    "* the password must not be the same as the username\n",
    "\n",
    "* bonus neither the username or password can start or end with whitespace\n"
   ]
  },
  {
   "cell_type": "code",
   "execution_count": 65,
   "id": "2aba7967",
   "metadata": {},
   "outputs": [
    {
     "name": "stdout",
     "output_type": "stream",
     "text": [
      "True\n",
      "True\n",
      "True\n",
      "True\n"
     ]
    }
   ],
   "source": [
    "is_username_long_enough = len(username) > 5 \n",
    "\n",
    "print(is_username_long_enough)\n",
    "\n",
    "is_username_short_enough = len(username) < 20\n",
    "\n",
    "print (is_username_short_enough)\n",
    "\n",
    "different = username != password\n",
    "\n",
    "print(different)\n",
    "\n",
    "no_spaces = username.endswith(' ') == False and password.endswith(' ') == False and username.startswith(' ') == False and password.startswith(' ') == False\n",
    "\n",
    "print(no_spaces)"
   ]
  }
 ],
 "metadata": {
  "kernelspec": {
   "display_name": "Python 3 (ipykernel)",
   "language": "python",
   "name": "python3"
  },
  "language_info": {
   "codemirror_mode": {
    "name": "ipython",
    "version": 3
   },
   "file_extension": ".py",
   "mimetype": "text/x-python",
   "name": "python",
   "nbconvert_exporter": "python",
   "pygments_lexer": "ipython3",
   "version": "3.9.12"
  }
 },
 "nbformat": 4,
 "nbformat_minor": 5
}
