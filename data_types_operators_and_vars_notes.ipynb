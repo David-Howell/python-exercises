{
 "cells": [
  {
   "cell_type": "code",
   "execution_count": 1,
   "id": "b15012d3",
   "metadata": {},
   "outputs": [
    {
     "data": {
      "text/plain": [
       "int"
      ]
     },
     "execution_count": 1,
     "metadata": {},
     "output_type": "execute_result"
    }
   ],
   "source": [
    "type (123)"
   ]
  },
  {
   "cell_type": "code",
   "execution_count": 2,
   "id": "84a568f6",
   "metadata": {},
   "outputs": [
    {
     "data": {
      "text/plain": [
       "str"
      ]
     },
     "execution_count": 2,
     "metadata": {},
     "output_type": "execute_result"
    }
   ],
   "source": [
    "type('hello')"
   ]
  },
  {
   "cell_type": "code",
   "execution_count": 3,
   "id": "942bd9a8",
   "metadata": {},
   "outputs": [
    {
     "data": {
      "text/plain": [
       "bool"
      ]
     },
     "execution_count": 3,
     "metadata": {},
     "output_type": "execute_result"
    }
   ],
   "source": [
    "type(True)"
   ]
  },
  {
   "cell_type": "code",
   "execution_count": 5,
   "id": "8f2cc61f",
   "metadata": {},
   "outputs": [
    {
     "name": "stdout",
     "output_type": "stream",
     "text": [
      "49\n"
     ]
    }
   ],
   "source": [
    "favorite_number = 42\n",
    "n = favorite_number + 7\n",
    "print(n)"
   ]
  },
  {
   "cell_type": "code",
   "execution_count": 6,
   "id": "c845cfa6",
   "metadata": {},
   "outputs": [
    {
     "name": "stdout",
     "output_type": "stream",
     "text": [
      "1\n",
      "2\n",
      "8\n"
     ]
    }
   ],
   "source": [
    "x = 1\n",
    "print(x)\n",
    "x = x + 1\n",
    "print(x)\n",
    "x = x * 3 + x\n",
    "print(x)\n"
   ]
  },
  {
   "cell_type": "markdown",
   "id": "26d62227",
   "metadata": {},
   "source": [
    "# Booleans\n",
    "\n",
    "* There are 2 possible boolean values, True or False. \n",
    "* Booleans can be thought of as the answer to a yes or no question. For example:\n",
    "\n",
    "    * is a user logged in to a webpage? is_logged_in\n",
    "    * does a dataset contain missing values? has_missing_values\n",
    "    \n",
    "Boolean values can be compared with the == and != operators, which themselves produce a boolean value."
   ]
  },
  {
   "cell_type": "code",
   "execution_count": 7,
   "id": "46783612",
   "metadata": {},
   "outputs": [
    {
     "data": {
      "text/plain": [
       "True"
      ]
     },
     "execution_count": 7,
     "metadata": {},
     "output_type": "execute_result"
    }
   ],
   "source": [
    "True == True"
   ]
  },
  {
   "cell_type": "code",
   "execution_count": 8,
   "id": "d54586c3",
   "metadata": {},
   "outputs": [
    {
     "data": {
      "text/plain": [
       "False"
      ]
     },
     "execution_count": 8,
     "metadata": {},
     "output_type": "execute_result"
    }
   ],
   "source": [
    "True == False"
   ]
  },
  {
   "cell_type": "code",
   "execution_count": 10,
   "id": "282f999c",
   "metadata": {},
   "outputs": [
    {
     "data": {
      "text/plain": [
       "False"
      ]
     },
     "execution_count": 10,
     "metadata": {},
     "output_type": "execute_result"
    }
   ],
   "source": [
    "True != True"
   ]
  },
  {
   "cell_type": "code",
   "execution_count": 11,
   "id": "f1e05d9c",
   "metadata": {},
   "outputs": [
    {
     "data": {
      "text/plain": [
       "True"
      ]
     },
     "execution_count": 11,
     "metadata": {},
     "output_type": "execute_result"
    }
   ],
   "source": [
    "True != False"
   ]
  },
  {
   "cell_type": "markdown",
   "id": "c046ed98",
   "metadata": {},
   "source": [
    "Boolean values can be combined with the and and or operators. and will evaluate to True if both boolean values are True, and or will evaluate to True if either boolean value is True.\n",
    "\n",
    "The not operator takes the opposite boolean value."
   ]
  },
  {
   "cell_type": "code",
   "execution_count": 12,
   "id": "1f5ea038",
   "metadata": {},
   "outputs": [
    {
     "data": {
      "text/plain": [
       "True"
      ]
     },
     "execution_count": 12,
     "metadata": {},
     "output_type": "execute_result"
    }
   ],
   "source": [
    "not False"
   ]
  },
  {
   "cell_type": "code",
   "execution_count": 13,
   "id": "d89cbd1a",
   "metadata": {},
   "outputs": [
    {
     "data": {
      "text/plain": [
       "True"
      ]
     },
     "execution_count": 13,
     "metadata": {},
     "output_type": "execute_result"
    }
   ],
   "source": [
    "True and True"
   ]
  },
  {
   "cell_type": "code",
   "execution_count": 14,
   "id": "537c9f5c",
   "metadata": {},
   "outputs": [
    {
     "data": {
      "text/plain": [
       "False"
      ]
     },
     "execution_count": 14,
     "metadata": {},
     "output_type": "execute_result"
    }
   ],
   "source": [
    "True and False"
   ]
  },
  {
   "cell_type": "code",
   "execution_count": 15,
   "id": "096d0c3f",
   "metadata": {},
   "outputs": [
    {
     "name": "stdout",
     "output_type": "stream",
     "text": [
      "True\n"
     ]
    }
   ],
   "source": [
    "is_first_of_the_month = True\n",
    "report_has_been_sent = False\n",
    "\n",
    "should_process_report = is_first_of_the_month and not report_has_been_sent\n",
    "\n",
    "print(should_process_report)\n"
   ]
  },
  {
   "cell_type": "markdown",
   "id": "cbab0d2c",
   "metadata": {},
   "source": [
    "# Numbers\n",
    "\n",
    "Python has two main types that represent numbers, int and float. The difference being that ints cannot have decimal places in them, while floats can.\n",
    "\n",
    "You can perform arithmetic with numbers with the following operators:\n",
    "\n",
    "Operation\tOperator\tExample\n",
    "Addition\t+\t4 + 4\n",
    "Subtraction\t-\t9 - 1\n",
    "Multiplication\t*\t4 * 2\n",
    "Division\t/\t16 / 2\n",
    "Exponentiation\t**\t2 ** 3\n",
    "\n",
    "Numbers can be compared with the following operators:\n",
    "\n",
    "Operator\tDescription\tExample\n",
    "==\tEqual to\t1 == 1\n",
    "!=\tNot equal to\t1 != 0\n",
    ">\tGreater than\t1 > 0\n",
    "<\tLess than\t0 < 1\n",
    ">=\tGreater than or equal to\t1 >= 1\n",
    "<=\tLess than or equal to\t1 <= 1\n"
   ]
  },
  {
   "cell_type": "code",
   "execution_count": 16,
   "id": "8a0650e2",
   "metadata": {},
   "outputs": [
    {
     "data": {
      "text/plain": [
       "True"
      ]
     },
     "execution_count": 16,
     "metadata": {},
     "output_type": "execute_result"
    }
   ],
   "source": [
    "4 + 5 > 10 - 2"
   ]
  },
  {
   "cell_type": "code",
   "execution_count": 17,
   "id": "211baebe",
   "metadata": {},
   "outputs": [
    {
     "data": {
      "text/plain": [
       "0.30000000000000004"
      ]
     },
     "execution_count": 17,
     "metadata": {},
     "output_type": "execute_result"
    }
   ],
   "source": [
    ".1 + .2"
   ]
  },
  {
   "cell_type": "code",
   "execution_count": 18,
   "id": "a04f7074",
   "metadata": {},
   "outputs": [
    {
     "data": {
      "text/plain": [
       "\"here is a number: 42. It's a nice number\""
      ]
     },
     "execution_count": 18,
     "metadata": {},
     "output_type": "execute_result"
    }
   ],
   "source": [
    "'hello there!'\n",
    "''\n",
    "'123'\n",
    "\"here is a number: 42. It's a nice number\"\n"
   ]
  },
  {
   "cell_type": "markdown",
   "id": "df1b51f9",
   "metadata": {},
   "source": [
    "Strings are delimeted with either single or double quotes. The only difference being that in order to have a string that contains a quote, you must either use the opposite type of quote, or escape the string. Escaping is when a character inside a string is preceded by a backslash, and it takes on a special meaning instead of a literal value."
   ]
  },
  {
   "cell_type": "code",
   "execution_count": 19,
   "id": "0a7b443c",
   "metadata": {},
   "outputs": [
    {
     "name": "stdout",
     "output_type": "stream",
     "text": [
      "Here is a single quote --> ' <-- \n",
      "Here is a single quote --> ' <-- \n",
      "\n",
      "Here is a double quote --> \" <--\n",
      "Here is a double quote --> \" <--\n",
      "\n",
      "Newlines are indicated by the character \"n\" preceded by a backslash, like so\n",
      "\n",
      "This string\n",
      "contains a newline\n"
     ]
    }
   ],
   "source": [
    "print('Here is a single quote --> \\' <-- ')\n",
    "print(\"Here is a single quote --> ' <-- \")\n",
    "print()\n",
    "print(\"Here is a double quote --> \\\" <--\")\n",
    "print('Here is a double quote --> \" <--')\n",
    "print()\n",
    "print('Newlines are indicated by the character \"n\" preceded by a backslash, like so')\n",
    "print()\n",
    "print('This string\\ncontains a newline')\n"
   ]
  },
  {
   "cell_type": "code",
   "execution_count": 20,
   "id": "6042399a",
   "metadata": {},
   "outputs": [
    {
     "data": {
      "text/plain": [
       "'\\nThis string\\ncan contain\\na lot of\\ntext!\\n'"
      ]
     },
     "execution_count": 20,
     "metadata": {},
     "output_type": "execute_result"
    }
   ],
   "source": [
    "'''\n",
    "This string\n",
    "can contain\n",
    "a lot of\n",
    "text!\n",
    "'''\n"
   ]
  },
  {
   "cell_type": "markdown",
   "id": "3a0a817f",
   "metadata": {},
   "source": [
    "# String Formatting\n",
    "It is very common that a string needs to contain the contents of a variable. There are several different ways to include variables in strings.\n",
    "\n",
    "* % formatting: a little older, but still fairly common\n",
    "* .format: a newer way to format strings\n",
    "* f-strings: introduced in python 3.6; comparable to string interpolation in other languages\n",
    "\n",
    "We'll take a look at some examples of each:"
   ]
  },
  {
   "cell_type": "code",
   "execution_count": 21,
   "id": "66bf35b2",
   "metadata": {},
   "outputs": [],
   "source": [
    "name = 'World'"
   ]
  },
  {
   "cell_type": "code",
   "execution_count": 22,
   "id": "659cf16a",
   "metadata": {},
   "outputs": [
    {
     "data": {
      "text/plain": [
       "'Hello, World!'"
      ]
     },
     "execution_count": 22,
     "metadata": {},
     "output_type": "execute_result"
    }
   ],
   "source": [
    "'Hello, %s!' % name"
   ]
  },
  {
   "cell_type": "code",
   "execution_count": 23,
   "id": "be0910b7",
   "metadata": {},
   "outputs": [
    {
     "data": {
      "text/plain": [
       "'Hello, World!'"
      ]
     },
     "execution_count": 23,
     "metadata": {},
     "output_type": "execute_result"
    }
   ],
   "source": [
    "'Hello, {}!'.format(name)"
   ]
  },
  {
   "cell_type": "code",
   "execution_count": 24,
   "id": "88d6d0a6",
   "metadata": {},
   "outputs": [
    {
     "data": {
      "text/plain": [
       "'Hello World!'"
      ]
     },
     "execution_count": 24,
     "metadata": {},
     "output_type": "execute_result"
    }
   ],
   "source": [
    "f'Hello {name}!'"
   ]
  }
 ],
 "metadata": {
  "kernelspec": {
   "display_name": "Python 3 (ipykernel)",
   "language": "python",
   "name": "python3"
  },
  "language_info": {
   "codemirror_mode": {
    "name": "ipython",
    "version": 3
   },
   "file_extension": ".py",
   "mimetype": "text/x-python",
   "name": "python",
   "nbconvert_exporter": "python",
   "pygments_lexer": "ipython3",
   "version": "3.9.12"
  }
 },
 "nbformat": 4,
 "nbformat_minor": 5
}
