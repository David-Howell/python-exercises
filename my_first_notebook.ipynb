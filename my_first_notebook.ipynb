{
 "cells": [
  {
   "cell_type": "code",
   "execution_count": 1,
   "id": "bf53a7e2",
   "metadata": {},
   "outputs": [
    {
     "name": "stdout",
     "output_type": "stream",
     "text": [
      "Thanks for coming today!\n"
     ]
    }
   ],
   "source": [
    "greeting = 'Thanks for coming today!'\n",
    "\n",
    "print (greeting)\n"
   ]
  },
  {
   "cell_type": "code",
   "execution_count": 2,
   "id": "63eb7b18",
   "metadata": {},
   "outputs": [
    {
     "name": "stdout",
     "output_type": "stream",
     "text": [
      "1.4142135623730951\n"
     ]
    }
   ],
   "source": [
    "# This is the second cell in my first notebook\n",
    "# To run this cell, press command return\n",
    "# It will return the squareroot of 2\n",
    "\n",
    "import math\n",
    "\n",
    "print(math.sqrt(2))\n"
   ]
  },
  {
   "cell_type": "code",
   "execution_count": null,
   "id": "872689bd",
   "metadata": {},
   "outputs": [],
   "source": [
    "# Wow! "
   ]
  }
 ],
 "metadata": {
  "kernelspec": {
   "display_name": "Python 3 (ipykernel)",
   "language": "python",
   "name": "python3"
  },
  "language_info": {
   "codemirror_mode": {
    "name": "ipython",
    "version": 3
   },
   "file_extension": ".py",
   "mimetype": "text/x-python",
   "name": "python",
   "nbconvert_exporter": "python",
   "pygments_lexer": "ipython3",
   "version": "3.9.13"
  }
 },
 "nbformat": 4,
 "nbformat_minor": 5
}
